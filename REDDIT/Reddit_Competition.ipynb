{
 "cells": [
  {
   "cell_type": "markdown",
   "id": "6151ab86",
   "metadata": {},
   "source": [
    "# Submission for Data Mining course Kaggle Competition\n",
    "   \n",
    "## \"Determine the gender of Reddit authors using their comments\"\n",
    "\n",
    "### Student: Antonio Buono\n",
    "\n",
    "### Matr.: 1018550"
   ]
  },
  {
   "cell_type": "markdown",
   "id": "8e5bc325",
   "metadata": {},
   "source": [
    " "
   ]
  },
  {
   "cell_type": "markdown",
   "id": "880e4b94",
   "metadata": {},
   "source": [
    "## Problem Assessment"
   ]
  },
  {
   "cell_type": "markdown",
   "id": "925706a4",
   "metadata": {},
   "source": [
    "Participants in the competition are asked to design a binary classification model capable of predicting the gender of Reddit users based on their comments on the platform. The training and test sets have already been defined beforehand in such a way that we should not need to worry about sampling bias and splitting procedures implementation (e.g. stratified sampling). Given the closed nature of the competition, we also won't address the problem of making our model easy to update with new training samples, allowing us to resort to batch-based learning algorithms if needed. Finally, the metric used for evaluation is defined as the area under the ROC Curve, defined as the True Positive Rate vs False Positive Rate graph as the decision boundary of the classificator is varied. Further description of the expected output format will be given later on this notebook. "
   ]
  },
  {
   "cell_type": "markdown",
   "id": "8a65ae4a",
   "metadata": {},
   "source": [
    "## Data Loading "
   ]
  },
  {
   "cell_type": "code",
   "execution_count": 1,
   "id": "2a4f25ca",
   "metadata": {},
   "outputs": [
    {
     "name": "stdout",
     "output_type": "stream",
     "text": [
      "Populating the interactive namespace from numpy and matplotlib\n",
      "<class 'pandas.core.frame.DataFrame'>\n",
      "RangeIndex: 296042 entries, 0 to 296041\n",
      "Data columns (total 4 columns):\n",
      " #   Column       Non-Null Count   Dtype  \n",
      "---  ------       --------------   -----  \n",
      " 0   author       296042 non-null  object \n",
      " 1   subreddit    296042 non-null  object \n",
      " 2   created_utc  296042 non-null  float64\n",
      " 3   body         296042 non-null  object \n",
      "dtypes: float64(1), object(3)\n",
      "memory usage: 9.0+ MB\n"
     ]
    }
   ],
   "source": [
    "%pylab inline\n",
    "import pandas as pd\n",
    "\n",
    "train_data = pd.read_csv(\"train_data.csv\", encoding=\"utf8\")\n",
    "train_data.info()"
   ]
  },
  {
   "cell_type": "code",
   "execution_count": 2,
   "id": "690a3984",
   "metadata": {},
   "outputs": [
    {
     "data": {
      "text/html": [
       "<div>\n",
       "<style scoped>\n",
       "    .dataframe tbody tr th:only-of-type {\n",
       "        vertical-align: middle;\n",
       "    }\n",
       "\n",
       "    .dataframe tbody tr th {\n",
       "        vertical-align: top;\n",
       "    }\n",
       "\n",
       "    .dataframe thead th {\n",
       "        text-align: right;\n",
       "    }\n",
       "</style>\n",
       "<table border=\"1\" class=\"dataframe\">\n",
       "  <thead>\n",
       "    <tr style=\"text-align: right;\">\n",
       "      <th></th>\n",
       "      <th>author</th>\n",
       "      <th>subreddit</th>\n",
       "      <th>created_utc</th>\n",
       "      <th>body</th>\n",
       "    </tr>\n",
       "  </thead>\n",
       "  <tbody>\n",
       "    <tr>\n",
       "      <th>0</th>\n",
       "      <td>Shamus_Aran</td>\n",
       "      <td>mylittlepony</td>\n",
       "      <td>1.388534e+09</td>\n",
       "      <td>I don't think we'd get nearly as much fanficti...</td>\n",
       "    </tr>\n",
       "    <tr>\n",
       "      <th>1</th>\n",
       "      <td>Riddance</td>\n",
       "      <td>sex</td>\n",
       "      <td>1.388534e+09</td>\n",
       "      <td>Thanks. I made it up, that's how I got over my...</td>\n",
       "    </tr>\n",
       "    <tr>\n",
       "      <th>2</th>\n",
       "      <td>Secret_Wizard</td>\n",
       "      <td>DragonsDogma</td>\n",
       "      <td>1.388534e+09</td>\n",
       "      <td>Are you sure you aren't confusing Cyclops (the...</td>\n",
       "    </tr>\n",
       "    <tr>\n",
       "      <th>3</th>\n",
       "      <td>Penultimatum</td>\n",
       "      <td>malefashionadvice</td>\n",
       "      <td>1.388534e+09</td>\n",
       "      <td>dont do this to me bro</td>\n",
       "    </tr>\n",
       "    <tr>\n",
       "      <th>4</th>\n",
       "      <td>7-SE7EN-7</td>\n",
       "      <td>todayilearned</td>\n",
       "      <td>1.388534e+09</td>\n",
       "      <td>That's what we do when we can't find a mate</td>\n",
       "    </tr>\n",
       "  </tbody>\n",
       "</table>\n",
       "</div>"
      ],
      "text/plain": [
       "          author          subreddit   created_utc  \\\n",
       "0    Shamus_Aran       mylittlepony  1.388534e+09   \n",
       "1       Riddance                sex  1.388534e+09   \n",
       "2  Secret_Wizard       DragonsDogma  1.388534e+09   \n",
       "3   Penultimatum  malefashionadvice  1.388534e+09   \n",
       "4      7-SE7EN-7      todayilearned  1.388534e+09   \n",
       "\n",
       "                                                body  \n",
       "0  I don't think we'd get nearly as much fanficti...  \n",
       "1  Thanks. I made it up, that's how I got over my...  \n",
       "2  Are you sure you aren't confusing Cyclops (the...  \n",
       "3                             dont do this to me bro  \n",
       "4        That's what we do when we can't find a mate  "
      ]
     },
     "execution_count": 2,
     "metadata": {},
     "output_type": "execute_result"
    }
   ],
   "source": [
    "train_data.head()"
   ]
  },
  {
   "cell_type": "code",
   "execution_count": 3,
   "id": "eb87da33",
   "metadata": {},
   "outputs": [
    {
     "data": {
      "text/plain": [
       "morbiusgreen           19534\n",
       "ProtoKun7               1524\n",
       "IfImLateDontWait        1383\n",
       "blaghart                1339\n",
       "kkjdroid                1251\n",
       "                       ...  \n",
       "ss15                       1\n",
       "LilBillysChubbyTits        1\n",
       "SheltieNoises              1\n",
       "oneIozz                    1\n",
       "emptyRR                    1\n",
       "Name: author, Length: 5000, dtype: int64"
      ]
     },
     "execution_count": 3,
     "metadata": {},
     "output_type": "execute_result"
    }
   ],
   "source": [
    "train_data[\"author\"].value_counts()"
   ]
  },
  {
   "cell_type": "code",
   "execution_count": 4,
   "id": "113e8cb5",
   "metadata": {},
   "outputs": [
    {
     "data": {
      "text/plain": [
       "AskReddit                30884\n",
       "ExploreFiction           15045\n",
       "AskWomen                  8318\n",
       "AskMen                    7734\n",
       "AdviceAnimals             6866\n",
       "                         ...  \n",
       "WikiLeaks                    1\n",
       "politicalfactchecking        1\n",
       "gtaglitches                  1\n",
       "CryptoCurrency               1\n",
       "HangoutFest                  1\n",
       "Name: subreddit, Length: 3468, dtype: int64"
      ]
     },
     "execution_count": 4,
     "metadata": {},
     "output_type": "execute_result"
    }
   ],
   "source": [
    "train_data[\"subreddit\"].value_counts()"
   ]
  },
  {
   "cell_type": "markdown",
   "id": "37af1eb5",
   "metadata": {},
   "source": [
    "By giving a first look at the training data with the help of the DataFrame class methods `info()` and `head()`, we see that the dataset is comprised of 296042 entries, each containing the author's nickname, the subreddit on which the message was posted, the UTC timestamp and the text body of the message.<br>\n",
    "The `value_counts()` method allows us to count the occurences of each single author and subreddit name, giving us 5000 different users writing in 3468 different communities."
   ]
  },
  {
   "cell_type": "code",
   "execution_count": 5,
   "id": "5c601bfc",
   "metadata": {},
   "outputs": [
    {
     "name": "stdout",
     "output_type": "stream",
     "text": [
      "<class 'pandas.core.frame.DataFrame'>\n",
      "RangeIndex: 5000 entries, 0 to 4999\n",
      "Data columns (total 2 columns):\n",
      " #   Column  Non-Null Count  Dtype \n",
      "---  ------  --------------  ----- \n",
      " 0   author  5000 non-null   object\n",
      " 1   gender  5000 non-null   int64 \n",
      "dtypes: int64(1), object(1)\n",
      "memory usage: 78.2+ KB\n"
     ]
    }
   ],
   "source": [
    "target = pd.read_csv(\"train_target.csv\", encoding=\"utf8\")\n",
    "target.info()"
   ]
  },
  {
   "cell_type": "code",
   "execution_count": 6,
   "id": "de95d14d",
   "metadata": {},
   "outputs": [
    {
     "data": {
      "text/plain": [
       "0       0\n",
       "1       1\n",
       "2       0\n",
       "3       0\n",
       "4       0\n",
       "       ..\n",
       "4995    0\n",
       "4996    1\n",
       "4997    0\n",
       "4998    1\n",
       "4999    0\n",
       "Name: gender, Length: 5000, dtype: int64"
      ]
     },
     "execution_count": 6,
     "metadata": {},
     "output_type": "execute_result"
    }
   ],
   "source": [
    "y = target.gender #isolating the gender labels\n",
    "y"
   ]
  },
  {
   "cell_type": "markdown",
   "id": "5c01cf86",
   "metadata": {},
   "source": [
    "To each author is associated a binary label which indicates his/her sex. The goal of the assignment is to structure a Dataframe which contains all the 5000 authors' names matched with the model-predicted probabilities of the writer being a man or a woman. "
   ]
  },
  {
   "cell_type": "markdown",
   "id": "e44b732b",
   "metadata": {},
   "source": [
    "## Feature Extraction"
   ]
  },
  {
   "cell_type": "markdown",
   "id": "b7c8518e",
   "metadata": {},
   "source": [
    "### Features from subreddit data"
   ]
  },
  {
   "cell_type": "markdown",
   "id": "81243bf8",
   "metadata": {},
   "source": [
    "After loading the data we want to make it numerical so that our algorithms can work with it; we do this by vectorization of the subreddit list and messages corpus. We start by creating a mapping between single subreddits and integers."
   ]
  },
  {
   "cell_type": "code",
   "execution_count": 7,
   "id": "28730178",
   "metadata": {},
   "outputs": [
    {
     "data": {
      "text/plain": [
       "mylittlepony            0\n",
       "sex                     1\n",
       "DragonsDogma            2\n",
       "malefashionadvice       3\n",
       "todayilearned           4\n",
       "                     ... \n",
       "palegirls            3463\n",
       "onions               3464\n",
       "mumfordandsons       3465\n",
       "infertility          3466\n",
       "HangoutFest          3467\n",
       "Length: 3468, dtype: int32"
      ]
     },
     "execution_count": 7,
     "metadata": {},
     "output_type": "execute_result"
    }
   ],
   "source": [
    "from scipy import sparse #vectorizers typically output sparse matrices\n",
    "\n",
    "#creating a mapper\n",
    "subreddits = train_data.subreddit.unique()\n",
    "subreddits_map = pd.Series(index=subreddits, data=arange(subreddits.shape[0]))\n",
    "\n",
    "subreddits_map"
   ]
  },
  {
   "cell_type": "markdown",
   "id": "ec857966",
   "metadata": {},
   "source": [
    "We then define a function which creates the rows of the sparse matrix, one for each author; it contains a 1 in every column indicised with the integer corresponding to a specific subreddit, according to the mapping we just did. "
   ]
  },
  {
   "cell_type": "code",
   "execution_count": 8,
   "id": "d78dcfa3",
   "metadata": {},
   "outputs": [
    {
     "data": {
      "text/plain": [
       "<1x3468 sparse matrix of type '<class 'numpy.float64'>'\n",
       "\twith 17 stored elements in Compressed Sparse Row format>"
      ]
     },
     "execution_count": 8,
     "metadata": {},
     "output_type": "execute_result"
    }
   ],
   "source": [
    "def extract_features(group):\n",
    "    group_subreddits = group['subreddit']\n",
    "    group_subreddits = group_subreddits[group_subreddits.isin(subreddits_map.index)].values \n",
    "    idxs = subreddits_map.loc[group_subreddits].values \n",
    "    v = sparse.dok_matrix((1, subreddits.shape[0])) \n",
    "    for idx in idxs:\n",
    "        if not np.isnan(idx):\n",
    "            v[0, idx] = 1 \n",
    "    return v.tocsr() \n",
    "    \n",
    "extract_features(train_data[train_data.author=='morbiusgreen']) #the author morbiusgreen wrote in 17 different subreddits"
   ]
  },
  {
   "cell_type": "markdown",
   "id": "551ed155",
   "metadata": {},
   "source": [
    "After doing this we run through all the authors and save the vectorized data in a dictionary and then in a 5000x3468 sparse matrix."
   ]
  },
  {
   "cell_type": "code",
   "execution_count": 9,
   "id": "f71a45c5",
   "metadata": {},
   "outputs": [
    {
     "data": {
      "text/plain": [
       "<5000x3468 sparse matrix of type '<class 'numpy.float64'>'\n",
       "\twith 49152 stored elements in Compressed Sparse Row format>"
      ]
     },
     "execution_count": 9,
     "metadata": {},
     "output_type": "execute_result"
    }
   ],
   "source": [
    "features_dict = {}\n",
    "\n",
    "for author, group in train_data.groupby('author'):\n",
    "    features_dict[author] = extract_features(group)\n",
    "    \n",
    "X = sparse.vstack([features_dict[author] for author in target.author])\n",
    "X"
   ]
  },
  {
   "cell_type": "markdown",
   "id": "36f1e242",
   "metadata": {},
   "source": [
    "In order to make the data more informative, we can also vectorize the data in such a way that each column of the resulting vector contains the ratio between messages written in the corresponding subreddit and the total number of messages written by the author. This kind of manipulation, however, moderately increases the code execution time."
   ]
  },
  {
   "cell_type": "code",
   "execution_count": 10,
   "id": "43b6ede2",
   "metadata": {},
   "outputs": [],
   "source": [
    "def extract_features_frac(group):\n",
    "    n_author = len(group) #total number of messages written by the same author\n",
    "    group_subreddits = group['subreddit']\n",
    "    group_subreddits = group_subreddits[group_subreddits.isin(subreddits_map.index)].values \n",
    "    gs = pd.Series(data = group_subreddits)\n",
    "    idxs = subreddits_map.loc[group_subreddits].values \n",
    "    v = sparse.dok_matrix((1, subreddits.shape[0])) \n",
    "    for idx in idxs:\n",
    "        if not np.isnan(idx):\n",
    "            n_sub = len(gs.loc[gs == subreddits_map.index[idx]]) #number of messages written by the same author in the same subreddit\n",
    "            v[0, idx] = n_sub / n_author #in this way every row is normalized to 1\n",
    "    return v.tocsr()"
   ]
  },
  {
   "cell_type": "markdown",
   "id": "24260569",
   "metadata": {},
   "source": [
    "As we did before, we now create a dictionary and a sparse matrix containing numbers between 0 and 1."
   ]
  },
  {
   "cell_type": "code",
   "execution_count": 11,
   "id": "77dedc6f",
   "metadata": {},
   "outputs": [
    {
     "data": {
      "text/plain": [
       "<5000x3468 sparse matrix of type '<class 'numpy.float64'>'\n",
       "\twith 49152 stored elements in Compressed Sparse Row format>"
      ]
     },
     "execution_count": 11,
     "metadata": {},
     "output_type": "execute_result"
    }
   ],
   "source": [
    "features_dict_frac = {}\n",
    "\n",
    "for author, group in train_data.groupby('author'):\n",
    "    features_dict_frac[author] = extract_features_frac(group)\n",
    "    \n",
    "Xf = sparse.vstack([features_dict_frac[author] for author in target.author])\n",
    "Xf"
   ]
  },
  {
   "cell_type": "markdown",
   "id": "9a2dcb4f",
   "metadata": {},
   "source": [
    "### Features from text data"
   ]
  },
  {
   "cell_type": "markdown",
   "id": "72e3c2b3",
   "metadata": {},
   "source": [
    "We also will make use of the messagges' bodies to predict the authors' genders, so let's now vectorize the text data."
   ]
  },
  {
   "cell_type": "code",
   "execution_count": 12,
   "id": "dd5edaa3",
   "metadata": {},
   "outputs": [
    {
     "data": {
      "text/plain": [
       "\"We adopted a black greyhound which was racing in Iowa as well, probably one of the craziest dogs I've ever known. Love him to death though!  Did you adopt through HGA? Do it! Go adopt one, they will love you forever! From Iowa State, most of our team is flying... We also are paying about $500 round trip, and I'm not getting back home until Monday.  Our student body government doesn't really help out so look into doing a lot of fundraising if you plan to fly.  We have 2 team members driving and they plan on leaving 2 days early and getting back the following Wednesday.\""
      ]
     },
     "execution_count": 12,
     "metadata": {},
     "output_type": "execute_result"
    }
   ],
   "source": [
    "def extract_text(group):\n",
    "    group_text = group['body'].astype(str).values #contains all messages from the same author\n",
    "    return \" \".join(group_text) #joins all message strings separated by a space\n",
    "\n",
    "extract_text(train_data[train_data.author == 'TheKittyCannon']) #this author wrote 3 messages in two different subreddits"
   ]
  },
  {
   "cell_type": "markdown",
   "id": "7c646b68",
   "metadata": {},
   "source": [
    "As we did before, we create a dictionary which stores authors as keys and text messages from each author as values. To make sure that each document (i. e. collection of messages by the same author) is correctly paired to his author and that the list is in correspondance with the target order, we make use of the `OrderedDict` class."
   ]
  },
  {
   "cell_type": "code",
   "execution_count": 13,
   "id": "60f73438",
   "metadata": {},
   "outputs": [],
   "source": [
    "from collections import OrderedDict\n",
    "\n",
    "text_dict = {}\n",
    "\n",
    "for author, group in train_data.groupby('author'):\n",
    "    text_dict[author] = extract_text(group)\n",
    "\n",
    "ord_text_dict = OrderedDict((author,text_dict[author]) for author in target.author) \n",
    "\n",
    "corpus = list(ord_text_dict.values()) "
   ]
  },
  {
   "cell_type": "markdown",
   "id": "d48fe8d3",
   "metadata": {},
   "source": [
    "Given the fact that some users wrote a lot more messages than others, it seem natural to vectorize the text by using the `TfidfVectorizer` transformation method, which natively returns normalized feature values."
   ]
  },
  {
   "cell_type": "code",
   "execution_count": 14,
   "id": "713060a0",
   "metadata": {},
   "outputs": [
    {
     "data": {
      "text/plain": [
       "<5000x17349 sparse matrix of type '<class 'numpy.float64'>'\n",
       "\twith 1746983 stored elements in Compressed Sparse Row format>"
      ]
     },
     "execution_count": 14,
     "metadata": {},
     "output_type": "execute_result"
    }
   ],
   "source": [
    "from sklearn.feature_extraction.text import TfidfVectorizer, ENGLISH_STOP_WORDS\n",
    "\n",
    "pattern ='(?u)\\\\b[A-Za-z]{3,}' #defining the allowed characters and stop words\n",
    "stop_words = set(list(ENGLISH_STOP_WORDS) + ['http', 'https']) ##\n",
    "\n",
    "tfidf = TfidfVectorizer(ngram_range = (1,2), stop_words= stop_words, min_df = .005, max_df = .2, token_pattern=pattern)\n",
    "T = tfidf.fit_transform(corpus)\n",
    "T\n",
    "\n",
    "# min_df indicates the minimum fraction of documents in which a word must be in order to be counted; if  >1 it prevents overfitting \n",
    "# max_df indicates the maximum fraction of documents in which a word must be in order to be counted; if >0 it prevents underfitting"
   ]
  },
  {
   "cell_type": "code",
   "execution_count": 15,
   "id": "a6d3d399",
   "metadata": {},
   "outputs": [
    {
     "data": {
      "text/html": [
       "<div>\n",
       "<style scoped>\n",
       "    .dataframe tbody tr th:only-of-type {\n",
       "        vertical-align: middle;\n",
       "    }\n",
       "\n",
       "    .dataframe tbody tr th {\n",
       "        vertical-align: top;\n",
       "    }\n",
       "\n",
       "    .dataframe thead th {\n",
       "        text-align: right;\n",
       "    }\n",
       "</style>\n",
       "<table border=\"1\" class=\"dataframe\">\n",
       "  <thead>\n",
       "    <tr style=\"text-align: right;\">\n",
       "      <th></th>\n",
       "      <th>aaa</th>\n",
       "      <th>aaaaand</th>\n",
       "      <th>aaron</th>\n",
       "      <th>abandon</th>\n",
       "      <th>abandoned</th>\n",
       "      <th>abc</th>\n",
       "      <th>abide</th>\n",
       "      <th>abilities</th>\n",
       "      <th>ability</th>\n",
       "      <th>able afford</th>\n",
       "      <th>...</th>\n",
       "      <th>zen</th>\n",
       "      <th>zeppelin</th>\n",
       "      <th>zero</th>\n",
       "      <th>zip</th>\n",
       "      <th>zombie</th>\n",
       "      <th>zombies</th>\n",
       "      <th>zone</th>\n",
       "      <th>zones</th>\n",
       "      <th>zoo</th>\n",
       "      <th>zoom</th>\n",
       "    </tr>\n",
       "  </thead>\n",
       "  <tbody>\n",
       "    <tr>\n",
       "      <th>0</th>\n",
       "      <td>0.0</td>\n",
       "      <td>0.0</td>\n",
       "      <td>0.0</td>\n",
       "      <td>0.0</td>\n",
       "      <td>0.0</td>\n",
       "      <td>0.0</td>\n",
       "      <td>0.0</td>\n",
       "      <td>0.0</td>\n",
       "      <td>0.0</td>\n",
       "      <td>0.0</td>\n",
       "      <td>...</td>\n",
       "      <td>0.000000</td>\n",
       "      <td>0.0</td>\n",
       "      <td>0.0</td>\n",
       "      <td>0.0</td>\n",
       "      <td>0.0</td>\n",
       "      <td>0.0</td>\n",
       "      <td>0.0</td>\n",
       "      <td>0.0</td>\n",
       "      <td>0.0</td>\n",
       "      <td>0.0</td>\n",
       "    </tr>\n",
       "    <tr>\n",
       "      <th>1</th>\n",
       "      <td>0.0</td>\n",
       "      <td>0.0</td>\n",
       "      <td>0.0</td>\n",
       "      <td>0.0</td>\n",
       "      <td>0.0</td>\n",
       "      <td>0.0</td>\n",
       "      <td>0.0</td>\n",
       "      <td>0.0</td>\n",
       "      <td>0.0</td>\n",
       "      <td>0.0</td>\n",
       "      <td>...</td>\n",
       "      <td>0.000000</td>\n",
       "      <td>0.0</td>\n",
       "      <td>0.0</td>\n",
       "      <td>0.0</td>\n",
       "      <td>0.0</td>\n",
       "      <td>0.0</td>\n",
       "      <td>0.0</td>\n",
       "      <td>0.0</td>\n",
       "      <td>0.0</td>\n",
       "      <td>0.0</td>\n",
       "    </tr>\n",
       "    <tr>\n",
       "      <th>2</th>\n",
       "      <td>0.0</td>\n",
       "      <td>0.0</td>\n",
       "      <td>0.0</td>\n",
       "      <td>0.0</td>\n",
       "      <td>0.0</td>\n",
       "      <td>0.0</td>\n",
       "      <td>0.0</td>\n",
       "      <td>0.0</td>\n",
       "      <td>0.0</td>\n",
       "      <td>0.0</td>\n",
       "      <td>...</td>\n",
       "      <td>0.000000</td>\n",
       "      <td>0.0</td>\n",
       "      <td>0.0</td>\n",
       "      <td>0.0</td>\n",
       "      <td>0.0</td>\n",
       "      <td>0.0</td>\n",
       "      <td>0.0</td>\n",
       "      <td>0.0</td>\n",
       "      <td>0.0</td>\n",
       "      <td>0.0</td>\n",
       "    </tr>\n",
       "    <tr>\n",
       "      <th>3</th>\n",
       "      <td>0.0</td>\n",
       "      <td>0.0</td>\n",
       "      <td>0.0</td>\n",
       "      <td>0.0</td>\n",
       "      <td>0.0</td>\n",
       "      <td>0.0</td>\n",
       "      <td>0.0</td>\n",
       "      <td>0.0</td>\n",
       "      <td>0.0</td>\n",
       "      <td>0.0</td>\n",
       "      <td>...</td>\n",
       "      <td>0.064486</td>\n",
       "      <td>0.0</td>\n",
       "      <td>0.0</td>\n",
       "      <td>0.0</td>\n",
       "      <td>0.0</td>\n",
       "      <td>0.0</td>\n",
       "      <td>0.0</td>\n",
       "      <td>0.0</td>\n",
       "      <td>0.0</td>\n",
       "      <td>0.0</td>\n",
       "    </tr>\n",
       "    <tr>\n",
       "      <th>4</th>\n",
       "      <td>0.0</td>\n",
       "      <td>0.0</td>\n",
       "      <td>0.0</td>\n",
       "      <td>0.0</td>\n",
       "      <td>0.0</td>\n",
       "      <td>0.0</td>\n",
       "      <td>0.0</td>\n",
       "      <td>0.0</td>\n",
       "      <td>0.0</td>\n",
       "      <td>0.0</td>\n",
       "      <td>...</td>\n",
       "      <td>0.000000</td>\n",
       "      <td>0.0</td>\n",
       "      <td>0.0</td>\n",
       "      <td>0.0</td>\n",
       "      <td>0.0</td>\n",
       "      <td>0.0</td>\n",
       "      <td>0.0</td>\n",
       "      <td>0.0</td>\n",
       "      <td>0.0</td>\n",
       "      <td>0.0</td>\n",
       "    </tr>\n",
       "  </tbody>\n",
       "</table>\n",
       "<p>5 rows × 17349 columns</p>\n",
       "</div>"
      ],
      "text/plain": [
       "   aaa  aaaaand  aaron  abandon  abandoned  abc  abide  abilities  ability  \\\n",
       "0  0.0      0.0    0.0      0.0        0.0  0.0    0.0        0.0      0.0   \n",
       "1  0.0      0.0    0.0      0.0        0.0  0.0    0.0        0.0      0.0   \n",
       "2  0.0      0.0    0.0      0.0        0.0  0.0    0.0        0.0      0.0   \n",
       "3  0.0      0.0    0.0      0.0        0.0  0.0    0.0        0.0      0.0   \n",
       "4  0.0      0.0    0.0      0.0        0.0  0.0    0.0        0.0      0.0   \n",
       "\n",
       "   able afford  ...       zen  zeppelin  zero  zip  zombie  zombies  zone  \\\n",
       "0          0.0  ...  0.000000       0.0   0.0  0.0     0.0      0.0   0.0   \n",
       "1          0.0  ...  0.000000       0.0   0.0  0.0     0.0      0.0   0.0   \n",
       "2          0.0  ...  0.000000       0.0   0.0  0.0     0.0      0.0   0.0   \n",
       "3          0.0  ...  0.064486       0.0   0.0  0.0     0.0      0.0   0.0   \n",
       "4          0.0  ...  0.000000       0.0   0.0  0.0     0.0      0.0   0.0   \n",
       "\n",
       "   zones  zoo  zoom  \n",
       "0    0.0  0.0   0.0  \n",
       "1    0.0  0.0   0.0  \n",
       "2    0.0  0.0   0.0  \n",
       "3    0.0  0.0   0.0  \n",
       "4    0.0  0.0   0.0  \n",
       "\n",
       "[5 rows x 17349 columns]"
      ]
     },
     "execution_count": 15,
     "metadata": {},
     "output_type": "execute_result"
    }
   ],
   "source": [
    "vectfeatures = pd.DataFrame(T.toarray(), columns= tfidf.get_feature_names()) #shows the name of the features added by the vectorizer\n",
    "vectfeatures.head()"
   ]
  },
  {
   "attachments": {
    "vectorization-2.png": {
     "image/png": "[encoded data removed]"
    }
   },
   "cell_type": "markdown",
   "id": "f58fa074",
   "metadata": {},
   "source": [
    "![vectorization-2.png](attachment:vectorization-2.png)"
   ]
  },
  {
   "cell_type": "markdown",
   "id": "c4b7e240",
   "metadata": {},
   "source": [
    "It may be useful, to experiment more easily with more vectorization parameters, to construct an `Extractor` which implements all the above feature extraction steps and combines the sparse matrices in which we encoded the data."
   ]
  },
  {
   "cell_type": "code",
   "execution_count": 16,
   "id": "7db374c0",
   "metadata": {},
   "outputs": [],
   "source": [
    "from sklearn.base import BaseEstimator, TransformerMixin \n",
    "#BaseEstimator adds get_params() and set_params() methods\n",
    "#TranformerMixin adds fit_transform() to transformer\n",
    "\n",
    "class Extractor(BaseEstimator, TransformerMixin):\n",
    "    def __init__(self, frac = False, min_df= 0.005, max_df=.2): #avoid *args and **kwargs\n",
    "        self.frac = frac\n",
    "        self.min_df = min_df  #tfidf parameters\n",
    "        self.max_df = max_df  ##\n",
    "    def fit(self, data, y = None):\n",
    "        return self\n",
    "    def transform(self, data, y):\n",
    "        features_dict = {}\n",
    "        text_dict = {}\n",
    "\n",
    "        for author, group in data.groupby('author'): #text extraction\n",
    "            text_dict[author] = extract_text(group)\n",
    "\n",
    "        ord_text_dict = OrderedDict((author,text_dict[author]) for author in target.author)\n",
    "        corpus = list(ord_text_dict.values()) \n",
    "        tfidf = TfidfVectorizer(ngram_range = (1,2), stop_words=stop_words, min_df= self.min_df, max_df= self.max_df, token_pattern=pattern)\n",
    "        T = tfidf.fit_transform(corpus)\n",
    "\n",
    "        if self.frac: #frac argument decides subreddit vectorization procedure\n",
    "            for author, group in train_data.groupby('author'):\n",
    "                features_dict[author] = extract_features_frac(group)\n",
    "\n",
    "            X = sparse.vstack([features_dict[author] for author in target.author])\n",
    "\n",
    "        else:\n",
    "            for author, group in train_data.groupby('author'):\n",
    "                features_dict[author] = extract_features(group)\n",
    "\n",
    "            X = sparse.vstack([features_dict[author] for author in target.author])\n",
    "\n",
    "        return sparse.hstack([X,T]).tocsr() #outputs an unique matrix with all features"
   ]
  },
  {
   "cell_type": "code",
   "execution_count": 17,
   "id": "ee09db0e",
   "metadata": {},
   "outputs": [
    {
     "data": {
      "text/plain": [
       "<5000x20817 sparse matrix of type '<class 'numpy.float64'>'\n",
       "\twith 1796135 stored elements in Compressed Sparse Row format>"
      ]
     },
     "execution_count": 17,
     "metadata": {},
     "output_type": "execute_result"
    }
   ],
   "source": [
    "extract = Extractor()\n",
    "XT = extract.transform(train_data,y)\n",
    "XT"
   ]
  },
  {
   "cell_type": "code",
   "execution_count": 18,
   "id": "c262af92",
   "metadata": {},
   "outputs": [
    {
     "data": {
      "text/plain": [
       "<5000x20817 sparse matrix of type '<class 'numpy.float64'>'\n",
       "\twith 1796135 stored elements in Compressed Sparse Row format>"
      ]
     },
     "execution_count": 18,
     "metadata": {},
     "output_type": "execute_result"
    }
   ],
   "source": [
    "frac_extract = Extractor(frac=True)\n",
    "XfT = frac_extract.transform(train_data,y)\n",
    "XfT"
   ]
  },
  {
   "cell_type": "markdown",
   "id": "f573f7bf",
   "metadata": {},
   "source": [
    "## Model Selection"
   ]
  },
  {
   "cell_type": "markdown",
   "id": "3ccbc8d0",
   "metadata": {},
   "source": [
    "We start our model selection by evaluating various models on the training set alone, just to get a feeling on which ones could be most effective."
   ]
  },
  {
   "cell_type": "code",
   "execution_count": 19,
   "id": "87204fa0",
   "metadata": {},
   "outputs": [],
   "source": [
    "from sklearn import metrics\n",
    "from sklearn.model_selection import cross_val_score"
   ]
  },
  {
   "cell_type": "code",
   "execution_count": 20,
   "id": "8e8053d5",
   "metadata": {},
   "outputs": [],
   "source": [
    "def visualizer(pred,y): #function to display the ROC curve, given the estimator probability predictions\n",
    "    fpr, tpr, thresholds = metrics.roc_curve(y,pred)\n",
    "    roc_auc = metrics.auc(fpr,tpr)\n",
    "    display = metrics.RocCurveDisplay(fpr=fpr,tpr=tpr,roc_auc=roc_auc)\n",
    "    display.plot()\n",
    "    plt.show()"
   ]
  },
  {
   "cell_type": "markdown",
   "id": "9cee70a2",
   "metadata": {},
   "source": [
    "After experimenting with different classification models we noticed that ensemble methods (in particular the Random Forest Classifier) are the ones who better fit the training data and also return the highest cross-validation scores.\n",
    "\n",
    "KNN Classifier heavily underfits the data.\n",
    "\n",
    "As the Support Vector Machine classifier computational time scales with the product of the the number of samples and the number of features, it becomes really difficult in our case to explore the hyperparameter space using cross-validation and at the same time keep a relatively short execution time; furthermore, the classifier seems to be very sensitive to gamma and C (dramatically over- or under-fitting as they are even slightly changed), making the task of an exhaustive grid-search very much time-consuming. For these reasons we decided to discard the model as a meaningful way to describe the given problem.\n",
    "\n",
    "Finally we also decided to include the Complement Naive Bayes Classifier, which is particularly suited for text-based data clasification, as it performs decently good in and out of sample. It can be reused in the final steps of our study as a way to construct an even more powerful classifier by combining it with other predictors in a `VotingClassifier` class."
   ]
  },
  {
   "cell_type": "markdown",
   "id": "c772ff2a",
   "metadata": {},
   "source": [
    "### Random Forest "
   ]
  },
  {
   "cell_type": "code",
   "execution_count": 21,
   "id": "6d764c99",
   "metadata": {},
   "outputs": [
    {
     "data": {
      "image/png": "[encoded data removed]",
      "text/plain": [
       "<Figure size 432x288 with 1 Axes>"
      ]
     },
     "metadata": {
      "needs_background": "light"
     },
     "output_type": "display_data"
    },
    {
     "name": "stdout",
     "output_type": "stream",
     "text": [
      "0.881243477623193\n"
     ]
    }
   ],
   "source": [
    "from sklearn.ensemble import RandomForestClassifier\n",
    "#the predictor already contains the best hyperparameters found via grid search (as shown below)\n",
    "forest = RandomForestClassifier(n_jobs=-1, n_estimators = 1200, max_depth=165, max_leaf_nodes=200, min_samples_leaf=10, bootstrap=False) #without regularization the model overfits\n",
    "forest.fit(XT,y)\n",
    "pred_forest = forest.predict_proba(XT)[:,1] #predicted probability for each class, the greatest label gives us the correct roc curve visualization\n",
    "visualizer(pred_forest, y)\n",
    "print(np.mean(cross_val_score(forest,XT,y,scoring='roc_auc'))) #cross validation score"
   ]
  },
  {
   "cell_type": "markdown",
   "id": "7e5ec411",
   "metadata": {},
   "source": [
    "### Naive Bayes"
   ]
  },
  {
   "cell_type": "code",
   "execution_count": 22,
   "id": "089a453f",
   "metadata": {
    "scrolled": true
   },
   "outputs": [
    {
     "data": {
      "image/png": "[encoded data removed]",
      "text/plain": [
       "<Figure size 432x288 with 1 Axes>"
      ]
     },
     "metadata": {
      "needs_background": "light"
     },
     "output_type": "display_data"
    },
    {
     "data": {
      "text/plain": [
       "0.9048526113890866"
      ]
     },
     "execution_count": 22,
     "metadata": {},
     "output_type": "execute_result"
    }
   ],
   "source": [
    "from sklearn.naive_bayes import ComplementNB \n",
    "#particularly suited for text clasification and unbalanced datasets\n",
    "nb_clf = ComplementNB()\n",
    "nb_clf.fit(XT,y)\n",
    "nb_pred = nb_clf.predict_proba(XT)[:,1]\n",
    "visualizer(nb_pred,y)\n",
    "np.mean(cross_val_score(nb_clf,XT,y,scoring='roc_auc'))"
   ]
  },
  {
   "cell_type": "markdown",
   "id": "026d69e6",
   "metadata": {},
   "source": [
    "### Logistic Regression"
   ]
  },
  {
   "cell_type": "code",
   "execution_count": 120,
   "id": "4f7a94b0",
   "metadata": {},
   "outputs": [
    {
     "data": {
      "image/png": "[encoded data removed]",
      "text/plain": [
       "<Figure size 432x288 with 1 Axes>"
      ]
     },
     "metadata": {
      "needs_background": "light"
     },
     "output_type": "display_data"
    },
    {
     "data": {
      "text/plain": [
       "0.9079823366168718"
      ]
     },
     "execution_count": 120,
     "metadata": {},
     "output_type": "execute_result"
    }
   ],
   "source": [
    "from sklearn.linear_model import LogisticRegression\n",
    "\n",
    "logistic = LogisticRegression()\n",
    "logistic.fit(XT,y)\n",
    "pred_logistic = logistic.predict_proba(XT)[:,1]\n",
    "visualizer(pred_logistic,y)\n",
    "np.mean(cross_val_score(logistic, XT, y, scoring='roc_auc'))"
   ]
  },
  {
   "cell_type": "markdown",
   "id": "e45d1488",
   "metadata": {},
   "source": [
    "## Fine-Tuning Models"
   ]
  },
  {
   "cell_type": "markdown",
   "id": "d72097c6",
   "metadata": {},
   "source": [
    "We first employ hyper-parameters grid-search to the chosen models using our binary-encoded version of the subreddit submatrix (i.e. with our `frac` parameter set to `False`)."
   ]
  },
  {
   "cell_type": "code",
   "execution_count": 23,
   "id": "ee85118e",
   "metadata": {},
   "outputs": [],
   "source": [
    "from sklearn.model_selection import GridSearchCV"
   ]
  },
  {
   "cell_type": "code",
   "execution_count": 25,
   "id": "fc65832c",
   "metadata": {},
   "outputs": [
    {
     "data": {
      "text/plain": [
       "GridSearchCV(cv=5,\n",
       "             estimator=RandomForestClassifier(bootstrap=False, max_depth=165,\n",
       "                                              max_leaf_nodes=200,\n",
       "                                              min_samples_leaf=10,\n",
       "                                              n_estimators=1200, n_jobs=-1),\n",
       "             param_grid={'max_depth': [165], 'max_leaf_nodes': [100, 200],\n",
       "                         'min_samples_leaf': [10, 15], 'n_estimators': [1200]},\n",
       "             return_train_score=True, scoring='roc_auc')"
      ]
     },
     "execution_count": 25,
     "metadata": {},
     "output_type": "execute_result"
    }
   ],
   "source": [
    "#Random Forest Classifier grid search (frac=FALSE)\n",
    "#values are only representative of the followed procedure\n",
    "forest_grid = {'n_estimators': [1000,1200], 'max_depth': [165], 'max_leaf_nodes': [100,200],  'min_samples_leaf': [10,15]}\n",
    "forest_GSCV = GridSearchCV(forest, forest_grid, cv=5, scoring='roc_auc', return_train_score=True)\n",
    "forest_GSCV.fit(XT,y)"
   ]
  },
  {
   "cell_type": "code",
   "execution_count": 26,
   "id": "f9b5b0eb",
   "metadata": {},
   "outputs": [
    {
     "data": {
      "text/plain": [
       "{'max_depth': 165,\n",
       " 'max_leaf_nodes': 200,\n",
       " 'min_samples_leaf': 10,\n",
       " 'n_estimators': 1200}"
      ]
     },
     "execution_count": 26,
     "metadata": {},
     "output_type": "execute_result"
    }
   ],
   "source": [
    "forest_GSCV.best_params_"
   ]
  },
  {
   "cell_type": "code",
   "execution_count": 27,
   "id": "391a2c58",
   "metadata": {},
   "outputs": [
    {
     "name": "stdout",
     "output_type": "stream",
     "text": [
      "0.8806331085159572 {'max_depth': 165, 'max_leaf_nodes': 100, 'min_samples_leaf': 10, 'n_estimators': 1200}\n",
      "0.880253032412637 {'max_depth': 165, 'max_leaf_nodes': 100, 'min_samples_leaf': 15, 'n_estimators': 1200}\n",
      "0.8826196780477868 {'max_depth': 165, 'max_leaf_nodes': 200, 'min_samples_leaf': 10, 'n_estimators': 1200}\n",
      "0.8804758279477177 {'max_depth': 165, 'max_leaf_nodes': 200, 'min_samples_leaf': 15, 'n_estimators': 1200}\n"
     ]
    }
   ],
   "source": [
    "forest_res = forest_GSCV.cv_results_\n",
    "for mean, params in zip(forest_res[\"mean_test_score\"], forest_res[\"params\"]):\n",
    "    print(mean, params)"
   ]
  },
  {
   "cell_type": "markdown",
   "id": "020fd1a5",
   "metadata": {},
   "source": [
    "Let's try the Random Forest Classifier with the fractional variant of the training set."
   ]
  },
  {
   "cell_type": "code",
   "execution_count": 28,
   "id": "7ee83ec7",
   "metadata": {},
   "outputs": [
    {
     "data": {
      "image/png": "[encoded data removed]",
      "text/plain": [
       "<Figure size 432x288 with 1 Axes>"
      ]
     },
     "metadata": {
      "needs_background": "light"
     },
     "output_type": "display_data"
    },
    {
     "name": "stdout",
     "output_type": "stream",
     "text": [
      "0.8666736275690348\n"
     ]
    }
   ],
   "source": [
    "frac_forest = RandomForestClassifier(n_estimators=5000, max_leaf_nodes=50, max_depth=10, bootstrap=False, n_jobs=-1)\n",
    "frac_forest.fit(XfT,y)\n",
    "frac_pred_forest = frac_forest.predict_proba(XfT)[:,1]\n",
    "visualizer(frac_pred_forest,y)\n",
    "print(np.mean(cross_val_score(frac_forest, XfT,y,scoring='roc_auc')))"
   ]
  },
  {
   "cell_type": "code",
   "execution_count": 29,
   "id": "9c3891f0",
   "metadata": {},
   "outputs": [
    {
     "data": {
      "text/plain": [
       "GridSearchCV(cv=5,\n",
       "             estimator=RandomForestClassifier(bootstrap=False, max_depth=10,\n",
       "                                              max_leaf_nodes=50,\n",
       "                                              n_estimators=5000, n_jobs=-1),\n",
       "             param_grid={'max_depth': [20], 'max_leaf_nodes': [20],\n",
       "                         'n_estimators': [5000]},\n",
       "             return_train_score=True, scoring='roc_auc')"
      ]
     },
     "execution_count": 29,
     "metadata": {},
     "output_type": "execute_result"
    }
   ],
   "source": [
    "frac_forest_grid = {'n_estimators':[5000], 'max_leaf_nodes':[20], 'max_depth':[20]}\n",
    "frac_forest_GSCV = GridSearchCV(frac_forest, frac_forest_grid, cv=5, scoring='roc_auc', return_train_score=True)\n",
    "frac_forest_GSCV.fit(XfT,y)"
   ]
  },
  {
   "cell_type": "code",
   "execution_count": 30,
   "id": "78dc3844",
   "metadata": {},
   "outputs": [
    {
     "data": {
      "text/plain": [
       "{'max_depth': 20, 'max_leaf_nodes': 20, 'n_estimators': 5000}"
      ]
     },
     "execution_count": 30,
     "metadata": {},
     "output_type": "execute_result"
    }
   ],
   "source": [
    "frac_forest_GSCV.best_params_"
   ]
  },
  {
   "cell_type": "code",
   "execution_count": 31,
   "id": "75efc556",
   "metadata": {
    "scrolled": false
   },
   "outputs": [
    {
     "name": "stdout",
     "output_type": "stream",
     "text": [
      "0.8710900108102558 {'max_depth': 20, 'max_leaf_nodes': 20, 'n_estimators': 5000}\n"
     ]
    }
   ],
   "source": [
    "frac_forest_res = frac_forest_GSCV.cv_results_\n",
    "for mean, params in zip(frac_forest_res[\"mean_test_score\"], frac_forest_res[\"params\"]):\n",
    "    print(mean, params)"
   ]
  },
  {
   "cell_type": "markdown",
   "id": "b2673bf7",
   "metadata": {},
   "source": [
    "The results show no particular improvement of this fractional manipulation with respect to the original binary feature vectorization so from now on we'll use the `frac=Flase` parameter."
   ]
  },
  {
   "cell_type": "markdown",
   "id": "a2f257fa",
   "metadata": {},
   "source": [
    "We can now use the attribute `feature_importances_` to list the ten most decisive features in the determination of the gender by the model. It's not very useful per se but it nonetheless gives a better insight on the model classification routine."
   ]
  },
  {
   "cell_type": "code",
   "execution_count": 48,
   "id": "2915a4cd",
   "metadata": {},
   "outputs": [
    {
     "name": "stdout",
     "output_type": "stream",
     "text": [
      "                features  importances\n",
      "85       MakeupAddiction     0.031978\n",
      "17              AskWomen     0.027133\n",
      "4975           boyfriend     0.020812\n",
      "59       TwoXChromosomes     0.016156\n",
      "112    TrollXChromosomes     0.012259\n",
      "10360            husband     0.010719\n",
      "95                gaming     0.009907\n",
      "103               videos     0.008980\n",
      "12707             makeup     0.008766\n",
      "6516                cute     0.007850\n"
     ]
    }
   ],
   "source": [
    "features_names = np.concatenate((subreddits_map.index,tfidf.get_feature_names())) #\n",
    "\n",
    "important_dict = {'features':features_names,'importances': forest.feature_importances_}\n",
    "important = pd.DataFrame().from_dict(important_dict)\n",
    "print(important.nlargest(n=10,columns='importances'))"
   ]
  },
  {
   "cell_type": "markdown",
   "id": "8a5620f1",
   "metadata": {},
   "source": [
    "### XGBoost"
   ]
  },
  {
   "cell_type": "markdown",
   "id": "e1c76433",
   "metadata": {},
   "source": [
    "The previous ensemble method (pasting via random trees) achieved a pretty good accuracy, so let's try the boosting ensemble method this time, by making use of a particularly suited library for text-based data classification."
   ]
  },
  {
   "cell_type": "code",
   "execution_count": 34,
   "id": "38e3cd6b",
   "metadata": {},
   "outputs": [],
   "source": [
    "import xgboost as xgb"
   ]
  },
  {
   "cell_type": "code",
   "execution_count": 121,
   "id": "427a33d7",
   "metadata": {},
   "outputs": [
    {
     "name": "stdout",
     "output_type": "stream",
     "text": [
      "[0]\tvalidation_0-logloss:0.61537\tvalidation_0-roc_auc_score:0.61244\n",
      "[1]\tvalidation_0-logloss:0.56876\tvalidation_0-roc_auc_score:0.66158\n",
      "[2]\tvalidation_0-logloss:0.54542\tvalidation_0-roc_auc_score:0.67849\n",
      "[3]\tvalidation_0-logloss:0.52766\tvalidation_0-roc_auc_score:0.68658\n",
      "[4]\tvalidation_0-logloss:0.51565\tvalidation_0-roc_auc_score:0.71642\n",
      "[5]\tvalidation_0-logloss:0.50626\tvalidation_0-roc_auc_score:0.73559\n",
      "[6]\tvalidation_0-logloss:0.49862\tvalidation_0-roc_auc_score:0.75633\n",
      "[7]\tvalidation_0-logloss:0.49240\tvalidation_0-roc_auc_score:0.76419\n",
      "[8]\tvalidation_0-logloss:0.48798\tvalidation_0-roc_auc_score:0.76478\n",
      "[9]\tvalidation_0-logloss:0.48258\tvalidation_0-roc_auc_score:0.77327\n",
      "[10]\tvalidation_0-logloss:0.47820\tvalidation_0-roc_auc_score:0.78038\n",
      "[11]\tvalidation_0-logloss:0.47377\tvalidation_0-roc_auc_score:0.78561\n",
      "[12]\tvalidation_0-logloss:0.46944\tvalidation_0-roc_auc_score:0.79678\n",
      "[13]\tvalidation_0-logloss:0.46505\tvalidation_0-roc_auc_score:0.80444\n",
      "[14]\tvalidation_0-logloss:0.46327\tvalidation_0-roc_auc_score:0.80616\n",
      "[15]\tvalidation_0-logloss:0.46084\tvalidation_0-roc_auc_score:0.81447\n",
      "[16]\tvalidation_0-logloss:0.45912\tvalidation_0-roc_auc_score:0.81792\n",
      "[17]\tvalidation_0-logloss:0.45595\tvalidation_0-roc_auc_score:0.82000\n",
      "[18]\tvalidation_0-logloss:0.45444\tvalidation_0-roc_auc_score:0.82210\n",
      "[19]\tvalidation_0-logloss:0.45146\tvalidation_0-roc_auc_score:0.82761\n",
      "[20]\tvalidation_0-logloss:0.44922\tvalidation_0-roc_auc_score:0.83219\n",
      "[21]\tvalidation_0-logloss:0.44790\tvalidation_0-roc_auc_score:0.83549\n",
      "[22]\tvalidation_0-logloss:0.44595\tvalidation_0-roc_auc_score:0.83783\n",
      "[23]\tvalidation_0-logloss:0.44344\tvalidation_0-roc_auc_score:0.84032\n",
      "[24]\tvalidation_0-logloss:0.44182\tvalidation_0-roc_auc_score:0.84090\n",
      "[25]\tvalidation_0-logloss:0.44125\tvalidation_0-roc_auc_score:0.83934\n",
      "[26]\tvalidation_0-logloss:0.43837\tvalidation_0-roc_auc_score:0.84397\n",
      "[27]\tvalidation_0-logloss:0.43765\tvalidation_0-roc_auc_score:0.84268\n",
      "[28]\tvalidation_0-logloss:0.43678\tvalidation_0-roc_auc_score:0.84145\n",
      "[29]\tvalidation_0-logloss:0.43457\tvalidation_0-roc_auc_score:0.84430\n",
      "[30]\tvalidation_0-logloss:0.43306\tvalidation_0-roc_auc_score:0.84662\n",
      "[31]\tvalidation_0-logloss:0.43224\tvalidation_0-roc_auc_score:0.84766\n",
      "[32]\tvalidation_0-logloss:0.43101\tvalidation_0-roc_auc_score:0.84969\n",
      "[33]\tvalidation_0-logloss:0.42962\tvalidation_0-roc_auc_score:0.84978\n",
      "[34]\tvalidation_0-logloss:0.42811\tvalidation_0-roc_auc_score:0.85121\n",
      "[35]\tvalidation_0-logloss:0.42752\tvalidation_0-roc_auc_score:0.84996\n",
      "[36]\tvalidation_0-logloss:0.42630\tvalidation_0-roc_auc_score:0.85190\n",
      "[37]\tvalidation_0-logloss:0.42490\tvalidation_0-roc_auc_score:0.85055\n",
      "[38]\tvalidation_0-logloss:0.42383\tvalidation_0-roc_auc_score:0.85151\n",
      "[39]\tvalidation_0-logloss:0.42290\tvalidation_0-roc_auc_score:0.85189\n",
      "[40]\tvalidation_0-logloss:0.42227\tvalidation_0-roc_auc_score:0.85313\n",
      "[41]\tvalidation_0-logloss:0.42079\tvalidation_0-roc_auc_score:0.85618\n",
      "[42]\tvalidation_0-logloss:0.41980\tvalidation_0-roc_auc_score:0.85803\n",
      "[43]\tvalidation_0-logloss:0.41840\tvalidation_0-roc_auc_score:0.86115\n",
      "[44]\tvalidation_0-logloss:0.41760\tvalidation_0-roc_auc_score:0.86052\n",
      "[45]\tvalidation_0-logloss:0.41596\tvalidation_0-roc_auc_score:0.86060\n",
      "[46]\tvalidation_0-logloss:0.41517\tvalidation_0-roc_auc_score:0.86068\n",
      "[47]\tvalidation_0-logloss:0.41538\tvalidation_0-roc_auc_score:0.86024\n",
      "[48]\tvalidation_0-logloss:0.41490\tvalidation_0-roc_auc_score:0.86090\n",
      "[49]\tvalidation_0-logloss:0.41435\tvalidation_0-roc_auc_score:0.86195\n",
      "[50]\tvalidation_0-logloss:0.41358\tvalidation_0-roc_auc_score:0.86322\n",
      "[51]\tvalidation_0-logloss:0.41329\tvalidation_0-roc_auc_score:0.86273\n",
      "[52]\tvalidation_0-logloss:0.41275\tvalidation_0-roc_auc_score:0.86232\n",
      "[53]\tvalidation_0-logloss:0.41212\tvalidation_0-roc_auc_score:0.86354\n",
      "[54]\tvalidation_0-logloss:0.41231\tvalidation_0-roc_auc_score:0.86259\n",
      "[55]\tvalidation_0-logloss:0.41216\tvalidation_0-roc_auc_score:0.86285\n",
      "[56]\tvalidation_0-logloss:0.41096\tvalidation_0-roc_auc_score:0.86433\n",
      "[57]\tvalidation_0-logloss:0.41005\tvalidation_0-roc_auc_score:0.86467\n",
      "[58]\tvalidation_0-logloss:0.40919\tvalidation_0-roc_auc_score:0.86565\n",
      "[59]\tvalidation_0-logloss:0.40829\tvalidation_0-roc_auc_score:0.86677\n",
      "[60]\tvalidation_0-logloss:0.40804\tvalidation_0-roc_auc_score:0.86630\n",
      "[61]\tvalidation_0-logloss:0.40737\tvalidation_0-roc_auc_score:0.86621\n",
      "[62]\tvalidation_0-logloss:0.40709\tvalidation_0-roc_auc_score:0.86504\n",
      "[63]\tvalidation_0-logloss:0.40629\tvalidation_0-roc_auc_score:0.86579\n",
      "[64]\tvalidation_0-logloss:0.40552\tvalidation_0-roc_auc_score:0.86678\n",
      "[65]\tvalidation_0-logloss:0.40432\tvalidation_0-roc_auc_score:0.86964\n",
      "[66]\tvalidation_0-logloss:0.40395\tvalidation_0-roc_auc_score:0.86857\n",
      "[67]\tvalidation_0-logloss:0.40382\tvalidation_0-roc_auc_score:0.87051\n",
      "[68]\tvalidation_0-logloss:0.40352\tvalidation_0-roc_auc_score:0.86965\n",
      "[69]\tvalidation_0-logloss:0.40354\tvalidation_0-roc_auc_score:0.86891\n",
      "[70]\tvalidation_0-logloss:0.40251\tvalidation_0-roc_auc_score:0.86985\n",
      "[71]\tvalidation_0-logloss:0.40182\tvalidation_0-roc_auc_score:0.87107\n",
      "[72]\tvalidation_0-logloss:0.40207\tvalidation_0-roc_auc_score:0.86974\n",
      "[73]\tvalidation_0-logloss:0.40203\tvalidation_0-roc_auc_score:0.86913\n",
      "[74]\tvalidation_0-logloss:0.40171\tvalidation_0-roc_auc_score:0.86927\n",
      "[75]\tvalidation_0-logloss:0.40167\tvalidation_0-roc_auc_score:0.86943\n",
      "[76]\tvalidation_0-logloss:0.40061\tvalidation_0-roc_auc_score:0.86999\n",
      "[77]\tvalidation_0-logloss:0.40034\tvalidation_0-roc_auc_score:0.87018\n",
      "[78]\tvalidation_0-logloss:0.40017\tvalidation_0-roc_auc_score:0.87009\n",
      "[79]\tvalidation_0-logloss:0.40034\tvalidation_0-roc_auc_score:0.86992\n",
      "[80]\tvalidation_0-logloss:0.40002\tvalidation_0-roc_auc_score:0.86925\n",
      "[81]\tvalidation_0-logloss:0.39966\tvalidation_0-roc_auc_score:0.86971\n",
      "[82]\tvalidation_0-logloss:0.39952\tvalidation_0-roc_auc_score:0.86957\n",
      "[83]\tvalidation_0-logloss:0.39820\tvalidation_0-roc_auc_score:0.87144\n",
      "[84]\tvalidation_0-logloss:0.39792\tvalidation_0-roc_auc_score:0.87203\n",
      "[85]\tvalidation_0-logloss:0.39741\tvalidation_0-roc_auc_score:0.87293\n",
      "[86]\tvalidation_0-logloss:0.39713\tvalidation_0-roc_auc_score:0.87191\n",
      "[87]\tvalidation_0-logloss:0.39668\tvalidation_0-roc_auc_score:0.87223\n",
      "[88]\tvalidation_0-logloss:0.39633\tvalidation_0-roc_auc_score:0.87325\n",
      "[89]\tvalidation_0-logloss:0.39585\tvalidation_0-roc_auc_score:0.87352\n",
      "[90]\tvalidation_0-logloss:0.39533\tvalidation_0-roc_auc_score:0.87367\n",
      "[91]\tvalidation_0-logloss:0.39559\tvalidation_0-roc_auc_score:0.87240\n",
      "[92]\tvalidation_0-logloss:0.39508\tvalidation_0-roc_auc_score:0.87206\n",
      "[93]\tvalidation_0-logloss:0.39499\tvalidation_0-roc_auc_score:0.87328\n",
      "[94]\tvalidation_0-logloss:0.39476\tvalidation_0-roc_auc_score:0.87330\n",
      "[95]\tvalidation_0-logloss:0.39453\tvalidation_0-roc_auc_score:0.87306\n",
      "[96]\tvalidation_0-logloss:0.39452\tvalidation_0-roc_auc_score:0.87269\n",
      "[97]\tvalidation_0-logloss:0.39407\tvalidation_0-roc_auc_score:0.87259\n",
      "[98]\tvalidation_0-logloss:0.39424\tvalidation_0-roc_auc_score:0.87209\n",
      "[99]\tvalidation_0-logloss:0.39421\tvalidation_0-roc_auc_score:0.87151\n"
     ]
    },
    {
     "data": {
      "text/plain": [
       "XGBClassifier(base_score=None, booster=None, callbacks=None,\n",
       "              colsample_bylevel=None, colsample_bynode=None,\n",
       "              colsample_bytree=None, early_stopping_rounds=None,\n",
       "              enable_categorical=False,\n",
       "              eval_metric=<function roc_auc_score at 0x00000189B9BEF430>,\n",
       "              feature_types=None, gamma=None, gpu_id=None, grow_policy=None,\n",
       "              importance_type=None, interaction_constraints=None,\n",
       "              learning_rate=None, max_bin=None, max_cat_threshold=None,\n",
       "              max_cat_to_onehot=None, max_delta_step=None, max_depth=2,\n",
       "              max_leaves=2, min_child_weight=None, missing=nan,\n",
       "              monotone_constraints=None, n_estimators=100, n_jobs=None,\n",
       "              num_parallel_tree=None, predictor=None, random_state=None, ...)"
      ]
     },
     "execution_count": 121,
     "metadata": {},
     "output_type": "execute_result"
    }
   ],
   "source": [
    "from sklearn.model_selection import train_test_split\n",
    "from sklearn.metrics import roc_auc_score\n",
    "Xtrain, Xval, ytrain, yval = train_test_split(XT,y, test_size=.2)\n",
    "\n",
    "XGB = xgb.XGBClassifier(reg_alpha = 5, reg_lambda=5, max_depth = 2, max_leaves = 2, eval_metric=roc_auc_score)\n",
    "XGB.fit(Xtrain,ytrain, eval_set=[(Xval,yval)])"
   ]
  },
  {
   "cell_type": "code",
   "execution_count": 122,
   "id": "0cecf52e",
   "metadata": {
    "scrolled": true
   },
   "outputs": [
    {
     "data": {
      "image/png": "[encoded data removed]",
      "text/plain": [
       "<Figure size 432x288 with 1 Axes>"
      ]
     },
     "metadata": {
      "needs_background": "light"
     },
     "output_type": "display_data"
    }
   ],
   "source": [
    "pred_XGB = XGB.predict_proba(Xtrain)[:,1]\n",
    "visualizer(pred_XGB,ytrain)"
   ]
  },
  {
   "cell_type": "code",
   "execution_count": 123,
   "id": "e56f8107",
   "metadata": {},
   "outputs": [
    {
     "data": {
      "image/png": "[encoded data removed]",
      "text/plain": [
       "<Figure size 432x288 with 1 Axes>"
      ]
     },
     "metadata": {
      "needs_background": "light"
     },
     "output_type": "display_data"
    }
   ],
   "source": [
    "pred_XGB = XGB.predict_proba(Xval)[:,1]\n",
    "visualizer(pred_XGB,yval)"
   ]
  },
  {
   "cell_type": "code",
   "execution_count": 124,
   "id": "b75971eb",
   "metadata": {},
   "outputs": [
    {
     "name": "stdout",
     "output_type": "stream",
     "text": [
      "0.8731261648579725\n"
     ]
    }
   ],
   "source": [
    "print(np.mean(cross_val_score(XGB,XT,y,scoring='roc_auc')))"
   ]
  },
  {
   "cell_type": "markdown",
   "id": "48b00f2a",
   "metadata": {},
   "source": [
    "## Voting Classifier"
   ]
  },
  {
   "cell_type": "markdown",
   "id": "a3433abd",
   "metadata": {},
   "source": [
    "Finally, we'll join our best predictors' capabilities in a voting classifier, which should increase the expected out-of sample score."
   ]
  },
  {
   "cell_type": "code",
   "execution_count": 129,
   "id": "efabc9be",
   "metadata": {},
   "outputs": [
    {
     "name": "stdout",
     "output_type": "stream",
     "text": [
      "0.924106839393388\n"
     ]
    }
   ],
   "source": [
    "from sklearn.ensemble import VotingClassifier\n",
    "\n",
    "voting_clf = VotingClassifier(estimators=[('XGB', XGB), ('forest', forest ), ('naive', nb_clf), ('logistic', logistic)],voting='soft')\n",
    "voting_clf.fit(XT,y)\n",
    "print(np.mean(cross_val_score(voting_clf,XT,y,scoring='roc_auc')))"
   ]
  },
  {
   "cell_type": "markdown",
   "id": "e105669f",
   "metadata": {},
   "source": [
    "## Solution Preparation"
   ]
  },
  {
   "cell_type": "code",
   "execution_count": 130,
   "id": "f318fd3c",
   "metadata": {},
   "outputs": [
    {
     "data": {
      "text/html": [
       "<div>\n",
       "<style scoped>\n",
       "    .dataframe tbody tr th:only-of-type {\n",
       "        vertical-align: middle;\n",
       "    }\n",
       "\n",
       "    .dataframe tbody tr th {\n",
       "        vertical-align: top;\n",
       "    }\n",
       "\n",
       "    .dataframe thead th {\n",
       "        text-align: right;\n",
       "    }\n",
       "</style>\n",
       "<table border=\"1\" class=\"dataframe\">\n",
       "  <thead>\n",
       "    <tr style=\"text-align: right;\">\n",
       "      <th></th>\n",
       "      <th>author</th>\n",
       "      <th>subreddit</th>\n",
       "      <th>created_utc</th>\n",
       "      <th>body</th>\n",
       "    </tr>\n",
       "  </thead>\n",
       "  <tbody>\n",
       "    <tr>\n",
       "      <th>0</th>\n",
       "      <td>ejchristian86</td>\n",
       "      <td>TwoXChromosomes</td>\n",
       "      <td>1.388534e+09</td>\n",
       "      <td>I hadn't ever heard of them before joining thi...</td>\n",
       "    </tr>\n",
       "    <tr>\n",
       "      <th>1</th>\n",
       "      <td>ZenDragon</td>\n",
       "      <td>gaming</td>\n",
       "      <td>1.388534e+09</td>\n",
       "      <td>At 7680 by 4320 with 64x AA, right?</td>\n",
       "    </tr>\n",
       "    <tr>\n",
       "      <th>2</th>\n",
       "      <td>savoytruffle</td>\n",
       "      <td>AskReddit</td>\n",
       "      <td>1.388534e+09</td>\n",
       "      <td>bite me</td>\n",
       "    </tr>\n",
       "    <tr>\n",
       "      <th>3</th>\n",
       "      <td>hentercenter</td>\n",
       "      <td>stlouisblues</td>\n",
       "      <td>1.388534e+09</td>\n",
       "      <td>Damn that was a good penalty :(</td>\n",
       "    </tr>\n",
       "    <tr>\n",
       "      <th>4</th>\n",
       "      <td>rick-o-suave</td>\n",
       "      <td>army</td>\n",
       "      <td>1.388534e+09</td>\n",
       "      <td>I swore into DEP on 6-OCT and I left 5-NOV und...</td>\n",
       "    </tr>\n",
       "  </tbody>\n",
       "</table>\n",
       "</div>"
      ],
      "text/plain": [
       "          author        subreddit   created_utc  \\\n",
       "0  ejchristian86  TwoXChromosomes  1.388534e+09   \n",
       "1      ZenDragon           gaming  1.388534e+09   \n",
       "2   savoytruffle        AskReddit  1.388534e+09   \n",
       "3   hentercenter     stlouisblues  1.388534e+09   \n",
       "4   rick-o-suave             army  1.388534e+09   \n",
       "\n",
       "                                                body  \n",
       "0  I hadn't ever heard of them before joining thi...  \n",
       "1                At 7680 by 4320 with 64x AA, right?  \n",
       "2                                            bite me  \n",
       "3                    Damn that was a good penalty :(  \n",
       "4  I swore into DEP on 6-OCT and I left 5-NOV und...  "
      ]
     },
     "execution_count": 130,
     "metadata": {},
     "output_type": "execute_result"
    }
   ],
   "source": [
    "test_data = pd.read_csv(\"test_data.csv\", encoding=\"utf8\")\n",
    "test_data.head()"
   ]
  },
  {
   "cell_type": "code",
   "execution_count": 131,
   "id": "311897d0",
   "metadata": {},
   "outputs": [],
   "source": [
    "final_features_dict = {}\n",
    "for author, group in test_data.groupby('author'):\n",
    "    final_features_dict[author] = extract_features(group)"
   ]
  },
  {
   "cell_type": "code",
   "execution_count": 132,
   "id": "ae70de57",
   "metadata": {},
   "outputs": [
    {
     "data": {
      "text/plain": [
       "<15000x3468 sparse matrix of type '<class 'numpy.float64'>'\n",
       "\twith 144898 stored elements in Compressed Sparse Row format>"
      ]
     },
     "execution_count": 132,
     "metadata": {},
     "output_type": "execute_result"
    }
   ],
   "source": [
    "X_test = sparse.vstack([final_features_dict[author] for author in test_data.author.unique()])\n",
    "X_test"
   ]
  },
  {
   "cell_type": "code",
   "execution_count": 133,
   "id": "11d86ed5",
   "metadata": {},
   "outputs": [],
   "source": [
    "final_text_dict = {}\n",
    "for author, group in test_data.groupby('author'):\n",
    "    final_text_dict[author] = extract_text(group)"
   ]
  },
  {
   "cell_type": "code",
   "execution_count": 134,
   "id": "562ed537",
   "metadata": {},
   "outputs": [
    {
     "data": {
      "text/plain": [
       "<15000x17349 sparse matrix of type '<class 'numpy.float64'>'\n",
       "\twith 5099793 stored elements in Compressed Sparse Row format>"
      ]
     },
     "execution_count": 134,
     "metadata": {},
     "output_type": "execute_result"
    }
   ],
   "source": [
    "author_text_test = [final_text_dict[author] for author in test_data.author.unique()]\n",
    "T_test = tfidf.transform(author_text_test)\n",
    "T_test"
   ]
  },
  {
   "cell_type": "code",
   "execution_count": 135,
   "id": "7fe4b959",
   "metadata": {},
   "outputs": [
    {
     "data": {
      "text/plain": [
       "<15000x20817 sparse matrix of type '<class 'numpy.float64'>'\n",
       "\twith 5244691 stored elements in Compressed Sparse Row format>"
      ]
     },
     "execution_count": 135,
     "metadata": {},
     "output_type": "execute_result"
    }
   ],
   "source": [
    "XT_test = sparse.hstack([X_test,T_test]).tocsr()\n",
    "XT_test"
   ]
  },
  {
   "cell_type": "code",
   "execution_count": 136,
   "id": "6e44ed91",
   "metadata": {},
   "outputs": [],
   "source": [
    "Y = voting_clf.predict_proba(XT_test)[:,1]"
   ]
  },
  {
   "cell_type": "code",
   "execution_count": 137,
   "id": "94a8801b",
   "metadata": {},
   "outputs": [
    {
     "data": {
      "text/html": [
       "<div>\n",
       "<style scoped>\n",
       "    .dataframe tbody tr th:only-of-type {\n",
       "        vertical-align: middle;\n",
       "    }\n",
       "\n",
       "    .dataframe tbody tr th {\n",
       "        vertical-align: top;\n",
       "    }\n",
       "\n",
       "    .dataframe thead th {\n",
       "        text-align: right;\n",
       "    }\n",
       "</style>\n",
       "<table border=\"1\" class=\"dataframe\">\n",
       "  <thead>\n",
       "    <tr style=\"text-align: right;\">\n",
       "      <th></th>\n",
       "      <th>author</th>\n",
       "      <th>gender</th>\n",
       "    </tr>\n",
       "  </thead>\n",
       "  <tbody>\n",
       "    <tr>\n",
       "      <th>0</th>\n",
       "      <td>ejchristian86</td>\n",
       "      <td>0.893737</td>\n",
       "    </tr>\n",
       "    <tr>\n",
       "      <th>1</th>\n",
       "      <td>ZenDragon</td>\n",
       "      <td>0.050209</td>\n",
       "    </tr>\n",
       "    <tr>\n",
       "      <th>2</th>\n",
       "      <td>savoytruffle</td>\n",
       "      <td>0.111526</td>\n",
       "    </tr>\n",
       "    <tr>\n",
       "      <th>3</th>\n",
       "      <td>hentercenter</td>\n",
       "      <td>0.084371</td>\n",
       "    </tr>\n",
       "    <tr>\n",
       "      <th>4</th>\n",
       "      <td>rick-o-suave</td>\n",
       "      <td>0.257404</td>\n",
       "    </tr>\n",
       "  </tbody>\n",
       "</table>\n",
       "</div>"
      ],
      "text/plain": [
       "          author    gender\n",
       "0  ejchristian86  0.893737\n",
       "1      ZenDragon  0.050209\n",
       "2   savoytruffle  0.111526\n",
       "3   hentercenter  0.084371\n",
       "4   rick-o-suave  0.257404"
      ]
     },
     "execution_count": 137,
     "metadata": {},
     "output_type": "execute_result"
    }
   ],
   "source": [
    "solution = pd.DataFrame({'author':test_data.author.unique(), 'gender':Y})\n",
    "solution.head()"
   ]
  },
  {
   "cell_type": "code",
   "execution_count": 138,
   "id": "e1921080",
   "metadata": {},
   "outputs": [],
   "source": [
    "solution.to_csv(\"solution.csv\", index=False)"
   ]
  },
  {
   "cell_type": "code",
   "execution_count": null,
   "id": "0862d29e",
   "metadata": {},
   "outputs": [],
   "source": []
  }
 ],
 "metadata": {
  "kernelspec": {
   "display_name": "Python 3 (ipykernel)",
   "language": "python",
   "name": "python3"
  },
  "language_info": {
   "codemirror_mode": {
    "name": "ipython",
    "version": 3
   },
   "file_extension": ".py",
   "mimetype": "text/x-python",
   "name": "python",
   "nbconvert_exporter": "python",
   "pygments_lexer": "ipython3",
   "version": "3.9.7"
  }
 },
 "nbformat": 4,
 "nbformat_minor": 5
}
