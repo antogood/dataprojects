{
 "cells": [
  {
   "cell_type": "code",
   "execution_count": 1,
   "id": "d2874f6c",
   "metadata": {},
   "outputs": [
    {
     "name": "stdout",
     "output_type": "stream",
     "text": [
      "Populating the interactive namespace from numpy and matplotlib\n"
     ]
    }
   ],
   "source": [
    "%pylab inline\n",
    "import pandas as pd"
   ]
  },
  {
   "cell_type": "code",
   "execution_count": 2,
   "id": "eca6dda4",
   "metadata": {},
   "outputs": [],
   "source": [
    "train_data = pd.read_csv(\"train_data.csv\", encoding ='utf8')\n",
    "target = pd.read_csv('train_target.csv', encoding ='utf8')\n",
    "y = target.gender"
   ]
  },
  {
   "cell_type": "code",
   "execution_count": 3,
   "id": "799c6197",
   "metadata": {},
   "outputs": [],
   "source": [
    "from scipy import sparse\n",
    "\n",
    "subreddits = train_data.subreddit.unique()\n",
    "subreddits_map = pd.Series(index=subreddits, data=arange(subreddits.shape[0]))\n",
    "\n",
    "def extract_features(group):\n",
    "    group_subreddits = group['subreddit']\n",
    "    group_subreddits = group_subreddits[group_subreddits.isin(subreddits_map.index)].values\n",
    "    idxs = subreddits_map.loc[group_subreddits].values\n",
    "    v = sparse.dok_matrix((1, subreddits.shape[0]))\n",
    "    for idx in idxs:\n",
    "        if not np.isnan(idx):\n",
    "            v[0, idx] = 1\n",
    "    return v.tocsr()\n",
    "\n",
    "features_dict = {}\n",
    "for author, group in train_data.groupby('author'):\n",
    "    features_dict[author] = extract_features(group)"
   ]
  },
  {
   "cell_type": "code",
   "execution_count": 4,
   "id": "59fb378d",
   "metadata": {},
   "outputs": [],
   "source": [
    "def extract_features_frac(group):\n",
    "    n_author = len(group) #total number of messages written by the same author\n",
    "    group_subreddits = group['subreddit']\n",
    "    group_subreddits = group_subreddits[group_subreddits.isin(subreddits_map.index)].values \n",
    "    gs = pd.Series(data = group_subreddits)\n",
    "    idxs = subreddits_map.loc[group_subreddits].values \n",
    "    v = sparse.dok_matrix((1, subreddits.shape[0])) \n",
    "    for idx in idxs:\n",
    "        if not np.isnan(idx):\n",
    "            n_sub = len(gs.loc[gs == subreddits_map.index[idx]]) #number of messages written by the same author in the same subreddit\n",
    "            v[0, idx] = n_sub / n_author #in this way every row is normalized to 1\n",
    "    return v.tocsr()\n",
    "\n",
    "features_dict_frac = {}\n",
    "\n",
    "for author, group in train_data.groupby('author'):\n",
    "    features_dict_frac[author] = extract_features_frac(group)"
   ]
  },
  {
   "cell_type": "code",
   "execution_count": 5,
   "id": "eca28a5c",
   "metadata": {},
   "outputs": [],
   "source": [
    "def extract_text(group):\n",
    "    group_text = group['body'].astype(str).values #contains all messages from the same author\n",
    "    return \" \".join(group_text)\n",
    "\n",
    "from collections import OrderedDict\n",
    "\n",
    "text_dict = {}\n",
    "\n",
    "for author, group in train_data.groupby('author'):\n",
    "    text_dict[author] = extract_text(group)\n",
    "\n",
    "ord_text_dict = OrderedDict((author,text_dict[author]) for author in target.author)\n",
    "\n",
    "corpus = list(ord_text_dict.values()) "
   ]
  },
  {
   "cell_type": "code",
   "execution_count": 6,
   "id": "7b80c5c3",
   "metadata": {},
   "outputs": [],
   "source": [
    "from sklearn.feature_extraction.text import TfidfVectorizer, ENGLISH_STOP_WORDS\n",
    "from sklearn.base import BaseEstimator, TransformerMixin \n",
    "\n",
    "pattern ='(?u)\\\\b[A-Za-z]{3,}' #defining the allowed characters and stop words\n",
    "stop_words = set(list(ENGLISH_STOP_WORDS) + ['http', 'https'])\n",
    "\n",
    "class Extractor(BaseEstimator, TransformerMixin):\n",
    "    def __init__(self, frac = False, min_df= 0.05, max_df=.5): #avoid *args and **kwargs\n",
    "        self.frac = frac\n",
    "        self.min_df = min_df  #tfidf parameters\n",
    "        self.max_df = max_df  ##\n",
    "    def fit(self, data, y = None):\n",
    "        return self\n",
    "    def transform(self, data, target):\n",
    "        features_dict = {}\n",
    "        text_dict = {}\n",
    "\n",
    "        for author, group in data.groupby('author'): #text extraction\n",
    "            text_dict[author] = extract_text(group)\n",
    "\n",
    "        ord_text_dict = OrderedDict((author,text_dict[author]) for author in target.author)\n",
    "        corpus = list(ord_text_dict.values()) \n",
    "        tfidf = TfidfVectorizer(ngram_range = (1,2), stop_words=stop_words, min_df= self.min_df, max_df= self.max_df, token_pattern=pattern)\n",
    "        T = tfidf.fit_transform(corpus)\n",
    "\n",
    "        if self.frac: #frac argument decides subreddit vectorization procedure\n",
    "            for author, group in train_data.groupby('author'):\n",
    "                features_dict[author] = extract_features_frac(group)\n",
    "\n",
    "            X = sparse.vstack([features_dict[author] for author in target.author])\n",
    "\n",
    "        else:\n",
    "            for author, group in train_data.groupby('author'):\n",
    "                features_dict[author] = extract_features(group)\n",
    "\n",
    "            X = sparse.vstack([features_dict[author] for author in target.author])\n",
    "\n",
    "        return sparse.hstack([X,T]).tocsr() #outputs an unique matrix with all features"
   ]
  },
  {
   "cell_type": "code",
   "execution_count": 7,
   "id": "905763c3",
   "metadata": {},
   "outputs": [],
   "source": [
    "from sklearn import metrics\n",
    "from sklearn.ensemble import RandomForestClassifier"
   ]
  },
  {
   "cell_type": "code",
   "execution_count": 25,
   "id": "98d6d875",
   "metadata": {},
   "outputs": [],
   "source": [
    "def visualizer(pred,y):\n",
    "    fpr, tpr, thresholds = metrics.roc_curve(y,pred)\n",
    "    roc_auc = metrics.auc(fpr,tpr)\n",
    "    display = metrics.RocCurveDisplay(fpr=fpr,tpr=tpr,roc_auc=roc_auc,estimator_name='Random Forest')\n",
    "    display.plot()\n",
    "    plt.show()"
   ]
  },
  {
   "cell_type": "code",
   "execution_count": 9,
   "id": "66370914",
   "metadata": {},
   "outputs": [],
   "source": [
    "extractor = Extractor()\n",
    "XT = extractor.transform(train_data, target)"
   ]
  },
  {
   "cell_type": "code",
   "execution_count": 10,
   "id": "7f0ea2e1",
   "metadata": {},
   "outputs": [],
   "source": [
    "frac_extractor = Extractor(frac=True, max_df=.4)\n",
    "XfT = frac_extractor.transform(train_data, target)"
   ]
  },
  {
   "cell_type": "code",
   "execution_count": 26,
   "id": "712da402",
   "metadata": {
    "scrolled": true
   },
   "outputs": [
    {
     "data": {
      "image/png": "[encoded data removed]",
      "text/plain": [
       "<Figure size 432x288 with 1 Axes>"
      ]
     },
     "metadata": {
      "needs_background": "light"
     },
     "output_type": "display_data"
    }
   ],
   "source": [
    "clf = RandomForestClassifier(n_estimators = 600, max_depth = 60, max_leaf_nodes=70, bootstrap=False, n_jobs=-1)\n",
    "clf.fit(XT,y)\n",
    "pred = clf.predict_proba(XT)[:,1]\n",
    "visualizer(pred,y)"
   ]
  },
  {
   "cell_type": "code",
   "execution_count": 18,
   "id": "055e7d54",
   "metadata": {},
   "outputs": [
    {
     "name": "stdout",
     "output_type": "stream",
     "text": [
      "0.8680965008907723\n"
     ]
    }
   ],
   "source": [
    "from sklearn.model_selection import cross_val_score\n",
    "\n",
    "scores = cross_val_score(clf, XT, y, scoring='roc_auc',cv=5, n_jobs=-1)\n",
    "print(np.mean(scores))"
   ]
  },
  {
   "cell_type": "code",
   "execution_count": 55,
   "id": "0c980f06",
   "metadata": {},
   "outputs": [
    {
     "data": {
      "image/png": "[encoded data removed]",
      "text/plain": [
       "<Figure size 432x288 with 1 Axes>"
      ]
     },
     "metadata": {
      "needs_background": "light"
     },
     "output_type": "display_data"
    }
   ],
   "source": [
    "frac_clf = RandomForestClassifier(n_estimators=800, max_depth=40, max_leaf_nodes=50, bootstrap=True, n_jobs=-1)\n",
    "frac_clf.fit(XfT,y)\n",
    "frac_pred=frac_clf.predict_proba(XfT)[:,1]\n",
    "visualizer(frac_pred, y)"
   ]
  },
  {
   "cell_type": "code",
   "execution_count": 56,
   "id": "40dca009",
   "metadata": {},
   "outputs": [
    {
     "name": "stdout",
     "output_type": "stream",
     "text": [
      "0.8676195934526495\n"
     ]
    }
   ],
   "source": [
    "frac_scores = cross_val_score(frac_clf, XfT,y, scoring='roc_auc',cv=5,n_jobs=-1)\n",
    "print(np.mean(frac_scores))"
   ]
  },
  {
   "cell_type": "code",
   "execution_count": 57,
   "id": "a1b335ad",
   "metadata": {},
   "outputs": [
    {
     "data": {
      "text/plain": [
       "0.012027940538559417"
      ]
     },
     "execution_count": 57,
     "metadata": {},
     "output_type": "execute_result"
    }
   ],
   "source": [
    "np.std(frac_scores)"
   ]
  },
  {
   "cell_type": "code",
   "execution_count": null,
   "id": "f20bc2e5",
   "metadata": {},
   "outputs": [],
   "source": [
    "from sklearn.model_selection import GridSearchCV\n",
    "\n",
    "frac_grid = {'n_estimators':[600,700], 'max_leaf_nodes':[75,80,90], 'max_depth':[30,40,50]}\n",
    "frac_GSCV = GridSearchCV(frac_clf, frac_grid, scoring='roc_auc',cv=5,n_jobs=-1,return_train_score=True)\n",
    "frac_GSCV.fit(XfT,y)\n",
    "print(frac_GSCV.best_params_)\n",
    "frac_res = frac_GSCV.cv_results_\n",
    "for mean, params in zip(frac_res['mean_test_score'], frac_res['params']):\n",
    "    print(mean,params)"
   ]
  },
  {
   "cell_type": "code",
   "execution_count": null,
   "id": "b18dce77",
   "metadata": {},
   "outputs": [],
   "source": []
  }
 ],
 "metadata": {
  "kernelspec": {
   "display_name": "Python 3 (ipykernel)",
   "language": "python",
   "name": "python3"
  },
  "language_info": {
   "codemirror_mode": {
    "name": "ipython",
    "version": 3
   },
   "file_extension": ".py",
   "mimetype": "text/x-python",
   "name": "python",
   "nbconvert_exporter": "python",
   "pygments_lexer": "ipython3",
   "version": "3.9.7"
  }
 },
 "nbformat": 4,
 "nbformat_minor": 5
}
