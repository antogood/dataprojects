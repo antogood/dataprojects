{
 "cells": [
  {
   "cell_type": "code",
   "execution_count": 28,
   "id": "41961b7c",
   "metadata": {},
   "outputs": [],
   "source": [
    "import sqlite3\n",
    "from sqlite3 import Error\n",
    "\n",
    "def create_connection(file):\n",
    "    conn = None\n",
    "    try:\n",
    "        conn = sqlite3.connect(file)\n",
    "    except Error as e:\n",
    "        print(e)\n",
    "    return conn\n",
    "\n",
    "def select_all(conn):\n",
    "    cur = conn.cursor()\n",
    "    cur.execute(\"SELECT * FROM store\")\n",
    "    \n",
    "    rows = cur.fetchall()\n",
    "    \n",
    "    return rows\n",
    "\n",
    "file = r\"itwac128.sqlite\"\n",
    "conn = create_connection(file)\n",
    "rows = select_all(conn)"
   ]
  },
  {
   "cell_type": "code",
   "execution_count": 29,
   "id": "2261487a",
   "metadata": {},
   "outputs": [
    {
     "name": "stdout",
     "output_type": "stream",
     "text": [
      "Relazione\n"
     ]
    }
   ],
   "source": [
    "print(rows[5000][0])"
   ]
  },
  {
   "cell_type": "code",
   "execution_count": null,
   "id": "24171d9f",
   "metadata": {},
   "outputs": [],
   "source": [
    "corpus = []\n",
    "for row in rows:\n",
    "    corpus.append(row[0])"
   ]
  },
  {
   "cell_type": "code",
   "execution_count": null,
   "id": "3667116a",
   "metadata": {},
   "outputs": [],
   "source": [
    "print(corpus[:100])"
   ]
  },
  {
   "cell_type": "code",
   "execution_count": null,
   "id": "460611ee",
   "metadata": {},
   "outputs": [],
   "source": []
  }
 ],
 "metadata": {
  "kernelspec": {
   "display_name": "Python 3 (ipykernel)",
   "language": "python",
   "name": "python3"
  },
  "language_info": {
   "codemirror_mode": {
    "name": "ipython",
    "version": 3
   },
   "file_extension": ".py",
   "mimetype": "text/x-python",
   "name": "python",
   "nbconvert_exporter": "python",
   "pygments_lexer": "ipython3",
   "version": "3.9.7"
  }
 },
 "nbformat": 4,
 "nbformat_minor": 5
}
