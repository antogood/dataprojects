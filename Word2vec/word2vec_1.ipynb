{
 "cells": [
  {
   "cell_type": "code",
   "execution_count": 7,
   "id": "d29f089e",
   "metadata": {},
   "outputs": [
    {
     "name": "stdout",
     "output_type": "stream",
     "text": [
      "Cosine similarity between 'alice' and 'wonderland' - CBOW: 0.9702097\n",
      "Cosine similarity between 'alice' and 'machines' - CBOW: 0.7976537\n",
      "Cosine similarity between 'alice' and 'wonderland' - SG: 0.6541466\n",
      "Cosine similarity between 'alice' and 'machines' - SG: 0.83699477\n"
     ]
    }
   ],
   "source": [
    "# python program to generate word vectors using word2vec\n",
    "\n",
    "from nltk.tokenize import sent_tokenize, word_tokenize\n",
    "import warnings\n",
    "\n",
    "warnings.filterwarnings(action = 'ignore') #never print repeated warnings\n",
    "\n",
    "import gensim\n",
    "from gensim.models import Word2Vec\n",
    "\n",
    "#read 'alice.txt'\n",
    "sample = open('alice.txt',encoding='utf8')\n",
    "s = sample.read()\n",
    "f = s.replace('\\n', ' ')\n",
    "\n",
    "data = []\n",
    "\n",
    "#iterate through each sentence in the file\n",
    "for i in sent_tokenize(f):\n",
    "    temp = []\n",
    "    \n",
    "    for j in word_tokenize(i):\n",
    "        temp.append(j.lower())\n",
    "    \n",
    "    data.append(temp)\n",
    "\n",
    "#create CBOW model\n",
    "model1 = Word2Vec(data, min_count=1, vector_size= 100, window =5)\n",
    "\n",
    "#print results\n",
    "print(\"Cosine similarity between 'alice' and 'wonderland' - CBOW:\", model1.wv.similarity('alice','wonderland'))\n",
    "print(\"Cosine similarity between 'alice' and 'machines' - CBOW:\", model1.wv.similarity('alice','machines'))\n",
    "\n",
    "#create skipgram model\n",
    "model2 = Word2Vec(data, min_count= 1, vector_size=100,window=5,sg=1)\n",
    "\n",
    "print(\"Cosine similarity between 'alice' and 'wonderland' - SG:\", model2.wv.similarity('alice','wonderland'))\n",
    "print(\"Cosine similarity between 'alice' and 'machines' - SG:\", model2.wv.similarity('alice','machines'))"
   ]
  },
  {
   "cell_type": "code",
   "execution_count": null,
   "id": "0e8193f5",
   "metadata": {},
   "outputs": [],
   "source": []
  }
 ],
 "metadata": {
  "kernelspec": {
   "display_name": "Python 3 (ipykernel)",
   "language": "python",
   "name": "python3"
  },
  "language_info": {
   "codemirror_mode": {
    "name": "ipython",
    "version": 3
   },
   "file_extension": ".py",
   "mimetype": "text/x-python",
   "name": "python",
   "nbconvert_exporter": "python",
   "pygments_lexer": "ipython3",
   "version": "3.9.7"
  }
 },
 "nbformat": 4,
 "nbformat_minor": 5
}
