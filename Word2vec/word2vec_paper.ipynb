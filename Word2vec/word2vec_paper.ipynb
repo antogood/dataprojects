{
 "cells": [
  {
   "cell_type": "markdown",
   "id": "ee4b1e88",
   "metadata": {},
   "source": [
    "# Word2Vec Skip-gram Algorithm with Negative Sampling Training Procedure"
   ]
  },
  {
   "cell_type": "markdown",
   "id": "2eaf49bb",
   "metadata": {},
   "source": [
    "*Antonio Buono, 2023*"
   ]
  },
  {
   "cell_type": "markdown",
   "id": "0a017897",
   "metadata": {},
   "source": [
    "## Introduction"
   ]
  },
  {
   "cell_type": "markdown",
   "id": "9df4f28b",
   "metadata": {},
   "source": [
    "In the context of Natural Language Processing (NLP), Word2Vec is a class of models for computing continuous vector representation of words, specifically designed for large unlabeled datasets. </br> Since its proposal in 2013, and although its relative architectural simplicity, it has proven capable of capturing precise syntactic and semantic word relationships and traslate them in the language of vector spaces. In the introductory article (by Mikolov et al. at Google Inc.) two different model architectures are proposed: Continuous Bag of Words (CBOW) and Skip-gram; this notebook will focus on the latter, implenting it by making use of the PyTorch API. Later refinements of the Skip-gram model (described in a subsequent article by the same authors) introduced the Negative Sampling procedure, which makes use of a different loss function and greatly increases both efficiency and accuracy of the results."
   ]
  },
  {
   "cell_type": "markdown",
   "id": "fcd675ca",
   "metadata": {},
   "source": [
    "## The Skip-gram Architecture"
   ]
  },
  {
   "cell_type": "markdown",
   "id": "afb68543",
   "metadata": {},
   "source": [
    "The basic assumption of Word2Vec is that semantically related words tend to appear in the immediate vicinity of one another inside an organized corpus of text. Given an input word, the goal of Skip-gram is to predict the probabilities that other words in the vocabulary are somewhat similar to the given one; the words for which the highest probability has been computed are called **context words** and they should correspond to the ones that appear more frequently nearby the input word. "
   ]
  },
  {
   "cell_type": "markdown",
   "id": "c335945c",
   "metadata": {},
   "source": [
    "\n",
    "<div>\n",
    "<img src=\"skipgram_mikolov.png\", width=\"300\"/>\n",
    "</div>"
   ]
  },
  {
   "cell_type": "markdown",
   "id": "28a41900",
   "metadata": {},
   "source": [
    "In order to train such a model we will need pairs `(word, context)` as examples. To generate these samples we define a **window of context** of size *C* from which we will extract the closest context words from a center. In the following picture we can see an example of sample extraction with *C=2*."
   ]
  },
  {
   "cell_type": "markdown",
   "id": "cf0fc791",
   "metadata": {},
   "source": [
    "<div>\n",
    "<img src=\"window.png\", width=\"500\"/>\n",
    "</div>"
   ]
  },
  {
   "cell_type": "markdown",
   "id": "71b61e1e",
   "metadata": {},
   "source": [
    "Once samples are obtained, single words are vectorized through One-Hot encoding and then passed to the Skip-gram neural network for training: it is a shallow two layer fully connected feedforward neural network with N linear neurons in the hidden layers and a softmax classifier on the output.<br>\n",
    "What we really are after, however, is the vector representation of the input word, which is given by the hidden layer N-dimensional vector produced by the input when multiplied with the trained weight matrix.<br>\n",
    "* Input Vector: One-Hot Encoded Vx1 vector (V:vocabulary size)\n",
    "* Input Weight Matrix: VxN\n",
    "* Hidden layer: Nx1 vector (N:**embedding dimension**)\n",
    "* Output Weight Matrix: NxV\n",
    "* Softmax between V different classes"
   ]
  },
  {
   "cell_type": "markdown",
   "id": "b5701f12",
   "metadata": {},
   "source": [
    "<div>\n",
    "<img src=\"nn1.png\", width=\"500\"/>\n",
    "</div>"
   ]
  },
  {
   "cell_type": "markdown",
   "id": "d37bc0f8",
   "metadata": {},
   "source": [
    "Since our input is an high-dimensional One-Hot vector, and all it does under matrix multiplication is select the matrix row corresponding to its non-zero index, it is computationally more efficient to replace the input layer with a **look-up table**, which stores, in its rows, all the hidden layer representation for each word. This is done, in PyTorch, via the `Embedding` module, which trains like any other weight matrix. In this way we can identify each input word with an integer ranging from 0 to *V-1* to get the input vector representation of that specific word."
   ]
  },
  {
   "cell_type": "markdown",
   "id": "e6a449e6",
   "metadata": {},
   "source": [
    "<div>\n",
    "<img src=\"lookuptable.png\", width=\"500\"/>\n",
    "</div>"
   ]
  },
  {
   "cell_type": "markdown",
   "id": "4ad6b449",
   "metadata": {},
   "source": [
    "Let's see more in detail how the Skip-gram NN transforms the input and context pairs from our training set and derive our loss function."
   ]
  },
  {
   "cell_type": "markdown",
   "id": "db75769e",
   "metadata": {},
   "source": [
    "<div>\n",
    "<img src=\"neuralnetwork.png\", width=\"300\"/>\n",
    "</div>"
   ]
  },
  {
   "cell_type": "markdown",
   "id": "a9fd5bc8",
   "metadata": {},
   "source": [
    "For word *k* we have:"
   ]
  },
  {
   "cell_type": "markdown",
   "id": "24dc1603",
   "metadata": {},
   "source": [
    "$$\n",
    "\\mathbf{h}=\\mathbf{W}^T\\mathbf{x}^{[k]} = \\mathbf{W}_{(k,:)}:=\\mathbf{v}_{w_{k}}\n",
    "$$"
   ]
  },
  {
   "cell_type": "markdown",
   "id": "70e99860",
   "metadata": {},
   "source": [
    "This is the word embedding for word k of our vocabulary, which we are interested in, and the one we will extract from the k-th row our input lookup table. We'll refer to this vector as **input vector**.<br>\n",
    "Now, to compute the probabilities of word c being a context word for word k we need to apply softmax to the output of the last layer:"
   ]
  },
  {
   "cell_type": "markdown",
   "id": "beec96c0",
   "metadata": {},
   "source": [
    "$$\n",
    "u_{c,k} = (\\mathbf{W'}^{T}\\mathbf{h})_c = \\mathbf{h}^T\\mathbf{W'}_{(:,c)} := \\mathbf{h}^T\\mathbf{v'}_{w_c}\n",
    "$$"
   ]
  },
  {
   "cell_type": "markdown",
   "id": "fb9bcde4",
   "metadata": {},
   "source": [
    "***v'*** describes another vector representation, this time for word c, which corresponds to the c-th column of the second weight matrix. We refer to this vector as **output vector**.<br>\n",
    "Since every context for which we want to compute probability has a one-to-one correspondance with the second weight matrix, we can introduce a second **context lookup table** which prevents us from performing matrix multiplication. "
   ]
  },
  {
   "cell_type": "markdown",
   "id": "0a83a45d",
   "metadata": {},
   "source": [
    "$$\n",
    "p(c|k) = y_{c,k} = \\frac{\\exp(u_{c,k})}{\\sum_{c'=1}^{C}\\exp(u_{c',k})} = \\frac{\\exp(\\mathbf{v'}_c \\cdot \\mathbf{v}_k)}{\\sum_{c'=1}^{C}\\exp(\\mathbf{v'}_{c'} \\cdot \\mathbf{v}_k)}\n",
    "$$"
   ]
  },
  {
   "cell_type": "markdown",
   "id": "70ad3794",
   "metadata": {},
   "source": [
    "<div>\n",
    "    <img src=\"contextmatrix.png\", width=\"500\"/>\n",
    "</div>"
   ]
  },
  {
   "cell_type": "markdown",
   "id": "06220fb7",
   "metadata": {},
   "source": [
    "Now we'll calculate our loss function using maximum likelihood:"
   ]
  },
  {
   "cell_type": "markdown",
   "id": "01151abe",
   "metadata": {},
   "source": [
    "\\begin{align}\n",
    "\\underset{\\theta}{\\operatorname{argmax}} p(C|V;\\theta) &= \\underset{\\theta}{\\operatorname{argmax}} \\underset{(k,c)\\in D}{\\prod} p(c|k;\\theta)\\\\ \n",
    "&= \\underset{\\theta}{\\operatorname{argmax}}\\underset{(k,c)\\in D}{\\prod}\\frac{\\exp(\\mathbf{v'}_c \\cdot \\mathbf{v}_k)} {\\underset{c'\\in C}{\\sum}\\exp(\\mathbf{v'}_{c'}\\cdot \\mathbf{v}_k)}\\\\\n",
    "&= \\underset{\\theta}{\\operatorname{argmax}}\\underset{(k,c)\\in D}{\\sum}\\big( \\mathbf{v'}_c \\cdot \\mathbf{v}_k - \\log \\underset{c'\\in C}{\\sum}\\exp(\\mathbf{v'}_{c'}\\cdot \\mathbf{v}_k) \\big) = \\underset{\\theta}{\\operatorname{argmin}} J(\\theta)\n",
    "\\end{align}"
   ]
  },
  {
   "cell_type": "markdown",
   "id": "d5fc723b",
   "metadata": {},
   "source": [
    "Computations using this loss function can be expensive because of the last term which consists of a sum over a possibly very large set of words. One way to address this problema is to introduce a technique called **negative sampling**."
   ]
  },
  {
   "cell_type": "markdown",
   "id": "3ee1d0e1",
   "metadata": {},
   "source": [
    "## Negative Sampling"
   ]
  },
  {
   "cell_type": "markdown",
   "id": "ed0597fe",
   "metadata": {},
   "source": [
    "To derive the new loss function and procedure we start by indicating the probability that a pair (k,c) belongs to the dataset D as:"
   ]
  },
  {
   "cell_type": "markdown",
   "id": "3a7e469a",
   "metadata": {},
   "source": [
    "$$\n",
    "p(D=1|k,c)\n",
    "$$"
   ]
  },
  {
   "cell_type": "markdown",
   "id": "a2b1f333",
   "metadata": {},
   "source": [
    "Conversely, the probability that the given pair of words are not related in the corpus is given by: \n"
   ]
  },
  {
   "cell_type": "markdown",
   "id": "0e9b9535",
   "metadata": {},
   "source": [
    "$$\n",
    "p(D=0|k,c)=1-p(D=1|k,c)\n",
    "$$"
   ]
  },
  {
   "cell_type": "markdown",
   "id": "9977585d",
   "metadata": {},
   "source": [
    "Then what we want to maximize is: "
   ]
  },
  {
   "cell_type": "markdown",
   "id": "69d25f6d",
   "metadata": {},
   "source": [
    "\\begin{align}\n",
    "\\underset{\\theta}{\\operatorname{argmax}} p(D=1|k,c;\\theta) &= \\underset{\\theta}{\\operatorname{argmax}} \\underset{(k,c) \\in D}{\\sum}\\log p(D=1|k,c;\\theta)\\\\ &= \\underset{\\theta}{\\operatorname{argmax}}\\underset{(k,c) \\in D}{\\sum}\\log\\frac{1}{1+\\exp(-\\mathbf{v'}_c \\cdot \\mathbf{v}_k)}\n",
    "\\end{align}"
   ]
  },
  {
   "cell_type": "markdown",
   "id": "8a26f5be",
   "metadata": {},
   "source": [
    "This objective has a trivial solution if we set $$\\mathbf{v'}_c=\\mathbf{v}_k$$ for all *c*,*k* and we make sure that their product is equal to a sufficiently large number K (in practice it has to be around 40)."
   ]
  },
  {
   "cell_type": "markdown",
   "id": "2b6dcda5",
   "metadata": {},
   "source": [
    "We need a mechanism that prevents all the vectors from having the same value by disallowing some (k,c) combinations. We do this by presenting the model (k,c) pairs for which p(D=1|k,c) must be low, i.e. pairs that don't appear in D. At this scope we introduce a new \"negative\" dataset D' which only contains all incorrect samples."
   ]
  },
  {
   "cell_type": "markdown",
   "id": "d61a39c1",
   "metadata": {},
   "source": [
    "\\begin{align}\n",
    "\\underset{\\theta}{\\operatorname{argmax}}\\underset{(k,c) \\in D}{\\prod}p(D=1|k,c;\\theta)\\underset{(k,c) \\in D'}{\\prod}p(D=0|k,c;\\theta)\n",
    "&=\\underset{\\theta}{\\operatorname{argmax}}\\underset{(k,c) \\in D}{\\prod}p(D=1|k,c;\\theta)\\underset{(k,c) \\in D'}{\\prod}\\big[1-p(D=1|k,c;\\theta)\\big]\\\\\n",
    "&=\\underset{\\theta}{\\operatorname{argmax}}\\underset{(k,c) \\in D}{\\sum}\\log\\frac{1}{1+\\exp(-\\mathbf{v'}_c \\cdot \\mathbf{v}_k)}+ \\underset{(k,c) \\in D'}{\\sum}\\log \\Big(1-\\frac{1}{1+\\exp(-\\mathbf{v'}_c \\cdot \\mathbf{v}_k)}\\Big)\\\\\n",
    "&=\\underset{\\theta}{\\operatorname{argmax}}\\underset{(k,c) \\in D}{\\sum}\\log\\sigma(\\mathbf{v'}_c \\cdot \\mathbf{v}_k)+\\underset{(k,c) \\in D'}{\\sum}\\log\\sigma(-\\mathbf{v'}_c \\cdot \\mathbf{v}_k)\n",
    "\\end{align}"
   ]
  },
  {
   "cell_type": "markdown",
   "id": "46c09d84",
   "metadata": {},
   "source": [
    "Our loss function is then defined by the following:"
   ]
  },
  {
   "cell_type": "markdown",
   "id": "60efebc9",
   "metadata": {},
   "source": [
    "---\n",
    "$$\n",
    "J = -\\underset{(k,c) \\in D}{\\sum}\\log\\sigma(\\mathbf{v'}_c \\cdot \\mathbf{v}_k)-\\underset{(k,c) \\in D'}{\\sum}\\log\\sigma(-\\mathbf{v'}_c \\cdot \\mathbf{v}_k)\n",
    "$$\n",
    "---"
   ]
  },
  {
   "cell_type": "markdown",
   "id": "a959bcdc",
   "metadata": {},
   "source": [
    "Here we present the loss for the entire corpus D ∪ D′, while Mikolov et al. present it for one example (k,c) ∈ D and\n",
    "n examples (k, c') ∈ D′, following a particular way of constructing D′. <br>\n",
    "Specifically with negative sampling of n, Mikolov et al. constructed D' in such a way that it is n times larger than D.<br> So for each (k, c) ∈ D, *n* samples (k, c<sub>1</sub>), . . . (k, c<sub>n</sub>) are extracted, each one according to its unigram distrbution raised to the 3/4th power."
   ]
  },
  {
   "cell_type": "markdown",
   "id": "0ed8621d",
   "metadata": {},
   "source": [
    "## Implementation"
   ]
  },
  {
   "cell_type": "markdown",
   "id": "f92ee7fb",
   "metadata": {},
   "source": [
    "### Preprocessing\n"
   ]
  },
  {
   "cell_type": "markdown",
   "id": "45bf1791",
   "metadata": {},
   "source": [
    "Sentences and words are extracted from the first 10<sup>8</sup> bytes of the english Wikipedia dump (https://mattmahoney.net/dc/textdata.html)."
   ]
  },
  {
   "cell_type": "code",
   "execution_count": 2,
   "id": "f0322c1f",
   "metadata": {},
   "outputs": [
    {
     "name": "stdout",
     "output_type": "stream",
     "text": [
      " anarchism originated as a term of abuse first used against early working class radicals including t\n"
     ]
    }
   ],
   "source": [
    "#reading data from enwiki8\n",
    "text8 = open('text8/text8', encoding='utf8')\n",
    "text = text8.read()\n",
    "\n",
    "print(text[:100])"
   ]
  },
  {
   "cell_type": "code",
   "execution_count": 3,
   "id": "c79acc36",
   "metadata": {},
   "outputs": [],
   "source": [
    "import re\n",
    "from collections import Counter\n",
    "\n",
    "def preprocess(text):\n",
    "    #replace punctuation with tokens\n",
    "    text = text.lower()\n",
    "    text = text.replace('.', ' <PERIOD> ')\n",
    "    text = text.replace(',', ' <COMMA> ')\n",
    "    text = text.replace('\"', ' <QUOTATION_MARK> ')\n",
    "    text = text.replace(';', ' <SEMICOLON> ')\n",
    "    text = text.replace('!', ' <EXCLAMATION_MARK> ')\n",
    "    text = text.replace('?', ' <QUESTION_MARK> ')\n",
    "    text = text.replace('(', ' <LEFT_PAREN> ')\n",
    "    text = text.replace(')', ' <RIGHT_PAREN> ')\n",
    "    text = text.replace('--', ' <HYPHENS> ')\n",
    "    text = text.replace(':', ' <COLON> ')\n",
    "    \n",
    "    words = text.split()\n",
    "    \n",
    "    #remove words with 5 or fewer occurences\n",
    "    word_counts = Counter(words)\n",
    "    trimmed_words = [word for word in words if word_counts[word] > 5]\n",
    "    \n",
    "    return trimmed_words\n",
    "\n",
    "\n",
    "def create_lookup_tables(words):\n",
    "    # create lookup tables for vocabulary (mappings)\n",
    "    #:param words: input list of words\n",
    "    #:return: two dictionaries: vocab_to_int and int_to_vocab\n",
    "    \n",
    "    word_counts = Counter(words)\n",
    "    #sorting words from most to least frequent in text occurences\n",
    "    sorted_vocab = sorted(word_counts, key=word_counts.get, reverse=True)\n",
    "    #create int_to_vocab dictionaries\n",
    "    int_to_vocab = {ii: word for ii, word in enumerate(sorted_vocab)}\n",
    "    vocab_to_int = {word: ii for ii, word in int_to_vocab.items()}\n",
    "    \n",
    "    return vocab_to_int,int_to_vocab"
   ]
  },
  {
   "cell_type": "code",
   "execution_count": 4,
   "id": "dd6c372d",
   "metadata": {},
   "outputs": [
    {
     "name": "stdout",
     "output_type": "stream",
     "text": [
      "['anarchism', 'originated', 'as', 'a', 'term', 'of', 'abuse', 'first', 'used', 'against', 'early', 'working', 'class', 'radicals', 'including', 'the', 'diggers', 'of', 'the', 'english', 'revolution', 'and', 'the', 'sans', 'culottes', 'of', 'the', 'french', 'revolution', 'whilst']\n"
     ]
    }
   ],
   "source": [
    "words = preprocess(text)\n",
    "\n",
    "print(words[:30])"
   ]
  },
  {
   "cell_type": "code",
   "execution_count": 5,
   "id": "affbe28c",
   "metadata": {},
   "outputs": [
    {
     "name": "stdout",
     "output_type": "stream",
     "text": [
      "[5233, 3080, 11, 5, 194, 1, 3133, 45, 58, 155, 127, 741, 476, 10571, 133, 0, 27349, 1, 0, 102, 854, 2, 0, 15067, 58112, 1, 0, 150, 854, 3580]\n"
     ]
    }
   ],
   "source": [
    "vocab_to_int, int_to_vocab = create_lookup_tables(words)\n",
    "\n",
    "int_words = [vocab_to_int[word] for word in words]\n",
    "\n",
    "print(int_words[:30])"
   ]
  },
  {
   "cell_type": "code",
   "execution_count": 6,
   "id": "4d0a211f",
   "metadata": {},
   "outputs": [
    {
     "name": "stdout",
     "output_type": "stream",
     "text": [
      "Total number of words: 16680599\n",
      "Total number of unique words: 63641\n"
     ]
    }
   ],
   "source": [
    "print('Total number of words:', len(words))\n",
    "print('Total number of unique words:', len(set(words)))"
   ]
  },
  {
   "cell_type": "markdown",
   "id": "9e5527be",
   "metadata": {},
   "source": [
    "Words that show up often such as \"the\", \"of\", and \"for\" don't provide much context to the nearby words. If we discard some of them, we can remove some of the noise from our data and in return get faster training and better representations. This process is called **subsampling** by Mikolov. For each word  *w<sub>i</sub>* in the training set, we'll discard it with probability given by:"
   ]
  },
  {
   "cell_type": "markdown",
   "id": "66db7482",
   "metadata": {},
   "source": [
    "$$\n",
    "P(w_i) = 1- \\sqrt{\\Big(\\frac{t}{f(w_i)}\\Big)}\n",
    "$$"
   ]
  },
  {
   "cell_type": "markdown",
   "id": "d1a0ae70",
   "metadata": {},
   "source": [
    "where  *t* is a threshold parameter and  *f(w<sub>i</sub>)* is the frequency of word  w<sub>i</sub> in the total dataset."
   ]
  },
  {
   "cell_type": "code",
   "execution_count": 7,
   "id": "8a51f69a",
   "metadata": {},
   "outputs": [
    {
     "name": "stdout",
     "output_type": "stream",
     "text": [
      "[5233, 3133, 155, 10571, 27349, 15067, 58112, 190, 10712, 1324, 2731, 3672, 2757, 7088, 5233, 1052, 44611, 602, 1134, 2621, 8983, 279, 4186, 5233, 1818, 7573, 11064, 7088, 20299, 53721]\n",
      "\n",
      "4627031\n"
     ]
    }
   ],
   "source": [
    "#SUBSAMPLING\n",
    "import random\n",
    "import numpy as np\n",
    "\n",
    "threshold = 1e-5\n",
    "word_counts = Counter(int_words)\n",
    "#print(list(word_counts.items())[0]) token/token count\n",
    "\n",
    "total_count = len(int_words)\n",
    "freqs = {word : count/total_count for word, count in word_counts.items()}\n",
    "p_drop = {word : 1 - np.sqrt(threshold/freqs[word]) for word in word_counts}\n",
    "\n",
    "#discard\n",
    "train_words = [word for word in int_words if random.random() > p_drop[word]]\n",
    "\n",
    "print(train_words[:30])\n",
    "print('')\n",
    "print(len(train_words))"
   ]
  },
  {
   "cell_type": "code",
   "execution_count": 8,
   "id": "40db6da5",
   "metadata": {},
   "outputs": [],
   "source": [
    "#MAKING BATCHES\n",
    "\n",
    "#this function returns the context words for a specific index word \n",
    "def get_target(words, idx, window_size=5):\n",
    "    \n",
    "    R = np.random.randint(1, window_size+1) #randon no. of words before and after the index to select\n",
    "    start = idx - R if (idx - R) > 0 else 0\n",
    "    stop = idx + R \n",
    "    target_words = words[start:idx] + words[idx+1:stop+1]\n",
    "    \n",
    "    return list(target_words)"
   ]
  },
  {
   "cell_type": "code",
   "execution_count": 9,
   "id": "7b10c79a",
   "metadata": {},
   "outputs": [],
   "source": [
    "#generator of word batches as a tuple (input,targets)\n",
    "\n",
    "def get_batches(words, batch_size, window_size=5):\n",
    "    \n",
    "    n_batches = len(words)//batch_size\n",
    "    words = words[:n_batches*batch_size] #only full batches\n",
    "    \n",
    "    for idx in range(0,len(words),batch_size):\n",
    "        x, y = [], []\n",
    "        batch = words[idx:idx+batch_size]\n",
    "        for ii in range(len(batch)):\n",
    "            batch_x = batch[ii]\n",
    "            batch_y = get_target(batch, ii, window_size)\n",
    "            y.extend(batch_y)\n",
    "            x.extend([batch_x]*len(batch_y))\n",
    "        yield x, y"
   ]
  },
  {
   "cell_type": "code",
   "execution_count": 10,
   "id": "d642b566",
   "metadata": {},
   "outputs": [],
   "source": [
    "## VALIDATION: we'll use this function to check most similar words to random words as the model trains \n",
    "\n",
    "def cosine_similarity(embedding, valid_size=16, valid_window=100, device='cpu'):\n",
    "    \n",
    "    embed_vectors = embedding.weight #embedding is a pytorch embedding module\n",
    "    \n",
    "    #magnitude of embedding vectors\n",
    "    magnitudes = embed_vectors.pow(2).sum(dim=1).sqrt().unsqueeze(0)\n",
    "    \n",
    "    #pick N words from (0,window) and (1000,1000+window)\n",
    "    valid_examples = np.array(random.sample(range(valid_window), valid_size//2))\n",
    "    valid_examples = np.append(valid_examples, random.sample(range(1000,1000+valid_window), valid_size//2))\n",
    "    valid_examples = torch.LongTensor(valid_examples).to(device)\n",
    "    \n",
    "    valid_vectors = embedding(valid_examples)\n",
    "    similarities = torch.mm(valid_vectors, embed_vectors.t())/magnitudes\n",
    "    \n",
    "    return valid_examples, similarities"
   ]
  },
  {
   "cell_type": "markdown",
   "id": "54b151a4",
   "metadata": {},
   "source": [
    "### Model definition"
   ]
  },
  {
   "cell_type": "code",
   "execution_count": 11,
   "id": "23eccf12",
   "metadata": {},
   "outputs": [],
   "source": [
    "import torch\n",
    "from torch import nn \n",
    "import torch.optim as optim"
   ]
  },
  {
   "cell_type": "code",
   "execution_count": 12,
   "id": "2f4217ff",
   "metadata": {},
   "outputs": [],
   "source": [
    "class SkipGramNeg(nn.Module):\n",
    "    def __init__(self, n_vocab, n_embed, noise_dist=None):\n",
    "        super().__init__()\n",
    "        self.n_vocab = n_vocab\n",
    "        self.n_embed = n_embed\n",
    "        self.noise_dist = noise_dist\n",
    "        \n",
    "        #define embedding layers for input and output words\n",
    "        self.in_embed = nn.Embedding(n_vocab, n_embed)\n",
    "        self.out_embed = nn.Embedding(n_vocab, n_embed)\n",
    "        \n",
    "        #initialize both embedding tables with uniform distribution\n",
    "        self.in_embed.weight.data.uniform_(-1,1)\n",
    "        self.out_embed.weight.data.uniform_(-1,1)\n",
    "        \n",
    "    def forward_input(self, input_words):\n",
    "        #return input vector embeddings\n",
    "        input_vector = self.in_embed(input_words)\n",
    "        return input_vector\n",
    "\n",
    "    def forward_output(self, output_words):\n",
    "        #return output vector embeddings\n",
    "        output_vector = self.out_embed(output_words)\n",
    "        return output_vector\n",
    "    \n",
    "    def forward_noise(self, batch_size, n_samples):\n",
    "        if self.noise_dist is None:\n",
    "            #sample words uniformly\n",
    "            noise_dist = torch.ones(self.n_vocab)\n",
    "        \n",
    "        else:\n",
    "            noise_dist = self.noise_dist\n",
    "        \n",
    "        #sample words from noise distribution\n",
    "        noise_words = torch.multinomial(noise_dist, batch_size*n_samples, replacement=True)\n",
    "        device = 'cuda' if model.out_embed.weight.is_cuda else 'cpu'\n",
    "        noise_words = noise_words.to(device)\n",
    "        \n",
    "        noise_vector = self.out_embed(noise_words).view(batch_size,n_samples, self.n_embed)\n",
    "        \n",
    "        return noise_vector"
   ]
  },
  {
   "cell_type": "code",
   "execution_count": 13,
   "id": "ee4a9ca5",
   "metadata": {},
   "outputs": [],
   "source": [
    "class NegativeSamplingLoss(nn.Module):\n",
    "    def __init__(self):\n",
    "        super().__init__()\n",
    "    \n",
    "    def forward(self, input_vectors, output_vectors, noise_vectors):\n",
    "        batch_size, embed_size = input_vectors.shape\n",
    "        #input vectors sould be a batch of column vectors\n",
    "        input_vectors = input_vectors.view(batch_size, embed_size, 1)\n",
    "        #output vectors should be a batch of row vectors\n",
    "        output_vectors = output_vectors.view(batch_size, 1, embed_size)\n",
    "        \n",
    "        out_loss = torch.bmm(output_vectors,input_vectors).sigmoid().log()\n",
    "        \n",
    "        noise_loss = torch.bmm(noise_vectors.neg(), input_vectors).sigmoid().log()\n",
    "        noise_loss = noise_loss.squeeze().sum(1)\n",
    "        \n",
    "        return -(out_loss + noise_loss).mean()"
   ]
  },
  {
   "cell_type": "markdown",
   "id": "182037ef",
   "metadata": {},
   "source": [
    "### Training"
   ]
  },
  {
   "cell_type": "code",
   "execution_count": 14,
   "id": "83253c35",
   "metadata": {
    "scrolled": false
   },
   "outputs": [
    {
     "name": "stdout",
     "output_type": "stream",
     "text": [
      "Epoch: 1/5\n",
      "Loss:  6.790860176086426\n",
      "seven|the,and,ship,zero,of\n",
      "if|ce,reversed,eukaryotes,marketed,reece\n",
      "of|the,and,in,requires,relatives\n",
      "eight|the,in,flavoring,zero,of\n",
      "about|baptist,wales,poems,of,richer\n",
      "united|notice,bass,thickened,cylindrical,using\n",
      "its|the,households,toe,a,rotterdam\n",
      "see|frontiers,weak,burrows,rated,lunch\n",
      "mainly|ancient,dougherty,magazine,adad,pioneered\n",
      "operating|embedded,impasse,possesses,boosting,leftrightarrow\n",
      "pre|banting,patrick,gaud,nets,it\n",
      "consists|conquered,stearic,personhood,article,provers\n",
      "heavy|prevention,machines,musketeers,september,antioch\n",
      "arts|closes,approval,serpents,aisle,rhythm\n",
      "except|oldcastle,players,followers,alomar,dividing\n",
      "powers|veto,pampa,chernobyl,jurists,totalitarian\n",
      "...\n",
      "\n",
      "Epoch: 1/5\n",
      "Loss:  5.012263774871826\n",
      "during|curling,in,burns,believers,five\n",
      "not|in,the,of,and,to\n",
      "there|to,as,two,a,by\n",
      "or|in,the,to,a,and\n",
      "be|to,in,a,is,the\n",
      "united|notice,the,eight,two,nine\n",
      "state|by,limit,ghazni,tops,privatized\n",
      "known|of,the,to,in,by\n",
      "hold|campus,crown,psychedelic,group,the\n",
      "additional|zoologists,ozone,let,societal,shanghainese\n",
      "troops|years,vaudeville,intimacy,shire,gather\n",
      "bill|nationalism,improvement,contenders,reviving,basis\n",
      "primarily|by,penni,superficial,mellitus,stereotypes\n",
      "accepted|prior,saxo,settled,methods,ball\n",
      "lived|spans,substitute,kwazulu,bugtraq,wavefunction\n",
      "applications|sums,zip,measurement,jacket,uk\n",
      "...\n",
      "\n",
      "Epoch: 1/5\n",
      "Loss:  4.125022888183594\n",
      "than|the,is,a,s,to\n",
      "new|by,was,the,to,one\n",
      "some|that,and,of,not,other\n",
      "for|a,in,to,the,of\n",
      "there|and,the,of,is,it\n",
      "while|going,of,and,as,new\n",
      "where|it,all,a,or,used\n",
      "during|and,the,which,after,in\n",
      "older|was,chabad,uribe,venatici,domestically\n",
      "consists|article,josef,positive,are,design\n",
      "resources|defined,mcmahon,creature,driftwood,recited\n",
      "heavy|these,made,machines,musketeers,matrimony\n",
      "units|terminal,bef,gaultier,aerodynamics,flexing\n",
      "issue|rhombic,known,temporary,adapted,oses\n",
      "bible|move,that,manifestos,with,atomic\n",
      "versions|shuja,fresher,tramways,cores,hevelius\n",
      "...\n",
      "\n",
      "Epoch: 1/5\n",
      "Loss:  3.6328842639923096\n",
      "one|nine,six,seven,eight,two\n",
      "but|to,the,not,of,for\n",
      "of|the,to,and,were,from\n",
      "people|their,of,were,from,the\n",
      "united|national,war,british,french,of\n",
      "such|are,that,be,also,for\n",
      "world|the,of,zero,nine,in\n",
      "history|on,in,of,at,international\n",
      "paris|oracular,poet,down,usa,losses\n",
      "pope|contour,government,inwardly,political,promiscuity\n",
      "quite|than,underlying,racket,it,generalisations\n",
      "brother|possessed,seven,his,six,s\n",
      "except|oldcastle,although,between,frisian,because\n",
      "engine|programmable,trax,silos,shocked,variant\n",
      "ocean|north,islands,south,coast,km\n",
      "event|miki,autonomy,extent,earrings,neh\n",
      "...\n",
      "\n",
      "Epoch: 1/5\n",
      "Loss:  3.2500650882720947\n",
      "he|his,who,him,in,that\n",
      "its|the,of,other,it,more\n",
      "after|was,war,had,the,became\n",
      "state|states,united,war,at,kingdom\n",
      "of|the,and,in,an,by\n",
      "for|the,not,to,a,and\n",
      "other|the,to,and,such,as\n",
      "i|love,john,man,her,his\n",
      "egypt|israel,against,war,jews,fought\n",
      "prince|july,st,france,british,first\n",
      "units|united,protection,change,non,bogged\n",
      "shows|be,traditional,music,play,way\n",
      "test|listed,these,liabilities,rainier,shiraz\n",
      "http|www,org,external,com,links\n",
      "active|in,people,government,while,since\n",
      "defense|executive,minister,civil,security,independent\n",
      "...\n",
      "\n",
      "Epoch: 1/5\n",
      "Loss:  3.2038733959198\n",
      "only|the,its,or,a,with\n",
      "were|was,in,the,for,their\n",
      "to|a,had,with,or,that\n",
      "also|modern,and,in,a,are\n",
      "time|by,not,for,to,but\n",
      "may|the,in,and,it,have\n",
      "such|for,a,or,between,are\n",
      "are|the,most,is,into,or\n",
      "professional|championship,chester,little,league,canadian\n",
      "heavy|metal,band,relatively,rock,due\n",
      "joseph|john,william,sir,ii,nine\n",
      "prince|ii,died,king,charles,queen\n",
      "grand|after,nine,american,lake,seven\n",
      "smith|john,james,george,jim,d\n",
      "file|operating,systems,computers,software,windows\n",
      "troops|forces,war,military,battle,army\n",
      "...\n",
      "\n",
      "Epoch: 2/5\n",
      "Loss:  2.8796491622924805\n",
      "five|seven,four,one,two,eight\n",
      "about|of,over,earth,the,all\n",
      "in|of,the,and,from,with\n",
      "during|was,led,had,to,killed\n",
      "four|one,seven,five,three,eight\n",
      "at|the,had,and,was,who\n",
      "will|be,could,they,it,for\n",
      "as|and,a,is,of,from\n",
      "stage|manned,successful,album,s,music\n",
      "file|windows,audio,interface,operating,graphics\n",
      "issue|critics,administration,rights,had,opinion\n",
      "shows|show,characters,music,song,band\n",
      "freedom|rights,leaders,democracy,policies,constitutional\n",
      "except|are,eastern,referred,between,its\n",
      "bbc|links,listing,page,august,http\n",
      "marriage|married,died,him,she,son\n",
      "...\n",
      "\n",
      "Epoch: 2/5\n",
      "Loss:  2.5629377365112305\n",
      "between|this,following,mean,though,these\n",
      "d|c,r,l,one,de\n",
      "be|this,can,to,require,use\n",
      "use|are,some,used,using,be\n",
      "will|to,they,it,rather,this\n",
      "world|major,in,still,largest,professional\n",
      "its|a,are,of,especially,the\n",
      "other|are,a,and,both,many\n",
      "additional|required,lower,unit,features,may\n",
      "woman|her,female,children,born,she\n",
      "question|whether,sense,values,evidence,answer\n",
      "egypt|syria,arab,israel,empire,africa\n",
      "account|according,interpretation,sum,there,strong\n",
      "assembly|elected,parliament,appointed,legislative,judicial\n",
      "instance|basic,not,language,words,distinguish\n",
      "test|to,testing,process,on,environmental\n",
      "...\n",
      "\n",
      "Epoch: 2/5\n",
      "Loss:  2.6589841842651367\n",
      "five|six,four,three,seven,one\n",
      "up|with,when,time,down,the\n",
      "however|it,the,for,to,but\n",
      "been|are,as,various,from,few\n",
      "while|with,even,but,it,the\n",
      "world|nine,great,became,november,war\n",
      "and|of,the,on,with,as\n",
      "an|a,as,be,is,and\n",
      "defense|defence,civil,attacking,troop,officers\n",
      "notes|isbn,written,edition,s,three\n",
      "joseph|william,peter,david,john,poet\n",
      "issue|comics,individual,issues,epicurus,argue\n",
      "operations|operation,data,unit,numbers,command\n",
      "versions|user,version,pc,operating,microsoft\n",
      "stage|performances,played,making,vocal,player\n",
      "egypt|egyptian,syria,arab,cairo,israel\n",
      "...\n",
      "\n",
      "Epoch: 2/5\n",
      "Loss:  2.722904682159424\n",
      "this|is,be,a,not,that\n",
      "on|the,to,of,and,an\n",
      "so|if,that,be,will,they\n",
      "are|or,these,is,all,not\n",
      "eight|six,one,seven,three,four\n",
      "often|sometimes,usually,especially,very,more\n",
      "would|but,them,young,another,that\n",
      "one|six,nine,eight,five,three\n",
      "resources|timber,environment,industrial,communications,deposits\n",
      "active|transfer,internal,cells,potential,of\n",
      "older|age,household,size,among,their\n",
      "road|highway,highways,route,city,park\n",
      "something|nothing,you,we,that,argument\n",
      "account|according,rejected,babylonian,myth,jewish\n",
      "bill|president,election,minister,chairman,office\n",
      "event|events,deliberately,enough,will,that\n",
      "...\n",
      "\n",
      "Epoch: 2/5\n",
      "Loss:  2.8877956867218018\n",
      "two|zero,one,six,four,eight\n",
      "d|b,writer,seven,composer,eight\n",
      "american|actress,b,writer,actor,musician\n",
      "some|these,the,all,there,them\n",
      "it|as,to,or,that,form\n",
      "used|or,similar,is,commonly,use\n",
      "zero|two,five,nine,one,four\n",
      "into|the,to,of,with,and\n",
      "active|in,within,political,such,studies\n",
      "scale|tone,higher,scales,cheaper,mechanical\n",
      "alternative|based,uses,influenced,related,genre\n",
      "shown|a,from,these,alternate,series\n",
      "pressure|heat,maximum,temperature,lower,surface\n",
      "troops|forces,war,army,attack,allied\n",
      "mainly|latin,region,dialects,names,are\n",
      "discovered|discovery,discoveries,earth,planet,solar\n",
      "...\n",
      "\n",
      "Epoch: 2/5\n",
      "Loss:  2.7772819995880127\n",
      "system|systems,operating,available,interface,software\n",
      "no|that,to,again,not,have\n",
      "most|are,have,also,in,often\n",
      "over|years,after,until,were,last\n",
      "may|three,two,via,in,zero\n",
      "united|states,commonwealth,union,charter,presidents\n",
      "the|in,of,by,and,a\n",
      "other|and,many,these,are,such\n",
      "liberal|political,social,politics,party,democrats\n",
      "shows|show,featured,feature,album,tv\n",
      "marriage|divorce,marry,marriages,her,children\n",
      "question|what,do,whether,we,our\n",
      "centre|city,cities,park,railway,museum\n",
      "universe|infinite,beings,earth,ultimate,cosmic\n",
      "operations|operational,operated,operation,air,personnel\n",
      "smith|american,john,mike,musician,nine\n",
      "...\n",
      "\n",
      "Epoch: 3/5\n",
      "Loss:  2.6156601905822754\n",
      "been|in,had,have,as,and\n",
      "can|or,cannot,be,if,properties\n",
      "such|are,other,sometimes,or,although\n",
      "over|to,of,at,between,years\n",
      "american|musician,actress,actor,singer,activist\n",
      "in|of,and,the,also,from\n",
      "new|york,press,two,eight,ny\n",
      "or|usually,are,can,sometimes,is\n",
      "heavy|tank,low,air,infantry,tanks\n",
      "freedom|communism,rights,discrimination,policy,constitutional\n",
      "consists|assembly,district,divided,districts,administrative\n",
      "orthodox|catholic,church,protestant,christians,jewish\n",
      "road|roads,built,city,mile,street\n",
      "magazine|news,magazines,uk,interview,guide\n",
      "http|www,com,org,html,htm\n",
      "paris|de,le,les,france,la\n",
      "...\n",
      "\n",
      "Epoch: 3/5\n",
      "Loss:  2.3808703422546387\n",
      "would|they,to,indeed,things,say\n",
      "new|york,one,two,st,university\n",
      "state|university,college,community,institute,local\n",
      "all|only,be,a,to,these\n",
      "while|their,they,the,them,such\n",
      "more|are,is,some,or,tend\n",
      "many|other,are,some,often,and\n",
      "the|to,and,at,in,a\n",
      "assembly|elected,legislative,parliament,appointed,judicial\n",
      "centre|buildings,located,around,college,adjacent\n",
      "bbc|television,tv,broadcast,news,radio\n",
      "event|events,cosmological,starts,after,experiment\n",
      "question|whether,validity,problem,what,we\n",
      "articles|links,online,www,com,archives\n",
      "recorded|album,song,record,concert,songs\n",
      "magazine|comics,stories,fiction,comic,magazines\n",
      "...\n",
      "\n"
     ]
    },
    {
     "name": "stdout",
     "output_type": "stream",
     "text": [
      "Epoch: 3/5\n",
      "Loss:  2.5220775604248047\n",
      "three|four,eight,five,seven,zero\n",
      "by|the,that,s,as,to\n",
      "was|his,later,the,wife,he\n",
      "up|down,side,into,would,made\n",
      "eight|four,six,one,seven,three\n",
      "known|the,and,of,as,also\n",
      "new|york,of,university,eight,st\n",
      "for|a,also,to,as,and\n",
      "nobel|prize,laureate,physicist,mathematician,physiology\n",
      "grand|knights,district,defeated,again,duchy\n",
      "operating|os,microsoft,unix,linux,computers\n",
      "report|health,reports,agency,journal,research\n",
      "event|cosmological,horizon,events,observer,bang\n",
      "test|testing,tests,program,agent,software\n",
      "woman|son,her,married,female,women\n",
      "paris|de,la,le,sur,jean\n",
      "...\n",
      "\n",
      "Epoch: 3/5\n",
      "Loss:  2.312138795852661\n",
      "th|century,four,bc,centuries,was\n",
      "be|can,must,any,not,is\n",
      "over|zero,the,rate,five,was\n",
      "had|was,after,the,were,ruled\n",
      "it|be,this,that,which,not\n",
      "two|zero,one,four,eight,three\n",
      "used|use,or,compound,is,uses\n",
      "been|the,was,have,early,found\n",
      "joseph|james,william,robert,actor,david\n",
      "issue|issues,powers,reform,political,proposals\n",
      "stage|actors,performances,audience,songwriters,tour\n",
      "pre|century,bc,early,greek,earlier\n",
      "pressure|gas,temperature,heat,pressures,water\n",
      "account|accounts,probably,babylonian,work,manuscripts\n",
      "shown|with,means,called,different,pair\n",
      "writers|novelists,poets,fiction,authors,births\n",
      "...\n",
      "\n",
      "Epoch: 3/5\n",
      "Loss:  2.7123823165893555\n",
      "the|of,and,as,by,in\n",
      "only|had,to,but,since,this\n",
      "with|and,a,of,to,on\n",
      "at|in,of,was,a,and\n",
      "who|that,him,had,he,and\n",
      "a|with,and,of,to,from\n",
      "been|has,and,that,the,a\n",
      "called|and,as,are,the,from\n",
      "instance|or,means,cases,representation,use\n",
      "file|files,unix,windows,format,interface\n",
      "behind|dead,keep,of,away,to\n",
      "numerous|jr,punk,among,influential,heavily\n",
      "quite|more,most,use,sound,can\n",
      "channel|channels,bandwidth,broadcast,networks,terminal\n",
      "mathematics|mathematical,theory,mathematicians,physics,computation\n",
      "hit|hits,singles,bob,got,johnny\n",
      "...\n",
      "\n",
      "Epoch: 3/5\n",
      "Loss:  2.337628126144409\n",
      "war|allied,fought,allies,invasion,attack\n",
      "been|has,in,and,was,most\n",
      "can|are,so,or,does,possible\n",
      "were|the,was,their,for,could\n",
      "one|seven,three,five,six,eight\n",
      "it|to,a,and,or,because\n",
      "no|not,that,either,any,but\n",
      "on|the,with,for,to,s\n",
      "placed|placing,inside,body,vertical,which\n",
      "file|files,windows,formats,format,unix\n",
      "accepted|law,while,scholars,relations,rejected\n",
      "http|www,com,edu,org,html\n",
      "dr|john,scientist,zero,seven,one\n",
      "instance|if,means,or,called,does\n",
      "derived|words,spelling,singular,is,word\n",
      "older|versions,household,size,computers,family\n",
      "...\n",
      "\n",
      "Epoch: 4/5\n",
      "Loss:  2.68461275100708\n",
      "as|a,and,is,known,for\n",
      "when|to,had,his,until,down\n",
      "states|united,state,country,in,the\n",
      "was|later,had,he,did,his\n",
      "where|the,in,then,all,he\n",
      "war|army,troops,allied,forces,fought\n",
      "years|year,two,five,birth,july\n",
      "not|any,some,they,do,be\n",
      "cost|costs,low,amount,customers,products\n",
      "alternative|journal,medicine,clinical,treatments,uk\n",
      "mainly|areas,region,mostly,other,large\n",
      "construction|buildings,building,small,constructed,supplied\n",
      "test|tests,testing,launch,bowlers,safe\n",
      "bible|testament,biblical,tanakh,hebrew,books\n",
      "additional|cost,by,for,holds,with\n",
      "numerous|most,among,including,the,significant\n",
      "...\n",
      "\n",
      "Epoch: 4/5\n",
      "Loss:  2.3044629096984863\n",
      "people|deaths,thousands,births,americans,children\n",
      "see|also,references,list,article,external\n",
      "about|this,that,it,have,is\n",
      "however|to,that,when,never,thus\n",
      "it|this,to,is,a,as\n",
      "often|as,some,or,are,can\n",
      "with|and,the,a,are,of\n",
      "the|in,to,a,and,first\n",
      "additional|can,standard,a,no,may\n",
      "cost|costs,customers,products,benefits,production\n",
      "creation|belief,understanding,principles,social,existence\n",
      "centre|located,around,metropolitan,situated,city\n",
      "police|officers,agency,arrested,military,enforcement\n",
      "orthodox|orthodoxy,churches,catholicism,protestant,patriarch\n",
      "proposed|evolution,theories,evolutionary,theory,dynamics\n",
      "governor|president,appointed,executive,elected,secretary\n",
      "...\n",
      "\n",
      "Epoch: 4/5\n",
      "Loss:  2.617006301879883\n",
      "are|is,or,have,these,there\n",
      "united|states,nations,australia,established,canada\n",
      "not|be,this,that,to,is\n",
      "six|four,eight,one,seven,five\n",
      "if|any,implies,cannot,we,point\n",
      "zero|two,nine,three,four,eight\n",
      "by|to,of,the,was,as\n",
      "be|not,this,can,is,may\n",
      "heavy|metal,aggressive,armored,powder,very\n",
      "existence|consciousness,philosophy,philosophers,truth,true\n",
      "quite|it,seem,seems,however,much\n",
      "primarily|are,many,variety,especially,primary\n",
      "lived|was,his,born,he,life\n",
      "experience|subjective,experiences,consciousness,sensory,creativity\n",
      "police|arrested,officers,sentenced,crimes,armed\n",
      "resources|resource,environmental,management,environment,services\n",
      "...\n",
      "\n",
      "Epoch: 4/5\n",
      "Loss:  2.3927664756774902\n",
      "when|a,however,so,the,was\n",
      "it|to,is,not,that,or\n",
      "th|century,rd,period,centuries,late\n",
      "states|united,federal,in,national,agency\n",
      "where|are,is,the,and,to\n",
      "about|has,zero,is,on,at\n",
      "first|was,nine,s,the,in\n",
      "time|was,were,during,period,after\n",
      "stage|actors,performing,as,memorable,theatre\n",
      "magazine|faq,paperback,published,documentary,newspaper\n",
      "ice|rocks,melting,water,snow,glaciers\n",
      "something|sense,find,proposition,nothing,but\n",
      "pope|bishops,pius,papal,church,archbishop\n",
      "report|http,links,investigation,com,external\n",
      "scale|approximately,measurements,magnitude,scales,accurate\n",
      "powers|state,act,government,constitution,responsibilities\n",
      "...\n",
      "\n",
      "Epoch: 4/5\n",
      "Loss:  2.4122474193573\n",
      "th|century,nd,st,rd,centuries\n",
      "world|in,all,the,of,is\n",
      "from|of,the,and,in,with\n",
      "by|in,the,of,and,a\n",
      "many|some,and,most,for,are\n",
      "one|six,three,eight,four,nine\n",
      "such|is,used,as,and,for\n",
      "all|on,other,and,any,the\n",
      "joseph|smith,john,george,thomas,d\n",
      "magazine|edition,news,press,documentary,published\n",
      "primarily|and,are,often,exclusively,most\n",
      "bill|senator,act,clinton,election,tony\n",
      "behind|to,she,down,deep,the\n",
      "universe|worlds,cosmological,earth,cosmology,bang\n",
      "engine|engines,combustion,turbine,rocket,exhaust\n",
      "mathematics|mathematical,mathematicians,geometry,algebra,theory\n",
      "...\n",
      "\n",
      "Epoch: 4/5\n",
      "Loss:  2.296375274658203\n",
      "which|system,with,this,called,a\n",
      "it|that,to,be,this,as\n",
      "is|are,called,has,common,a\n",
      "called|is,are,which,the,as\n",
      "their|have,they,were,the,with\n",
      "time|for,in,after,was,with\n",
      "from|the,and,of,in,with\n",
      "there|not,are,only,have,or\n",
      "units|unit,combined,measurement,quantity,kilogram\n",
      "square|kilometers,kilometres,miles,km,height\n",
      "pressure|gas,flow,drag,temperature,combustion\n",
      "bbc|day,listing,pbs,march,external\n",
      "derived|form,singular,common,referring,which\n",
      "alternative|based,uses,emphasis,combination,also\n",
      "articles|dictionary,archives,online,com,page\n",
      "existence|theories,metaphysical,universe,proof,statements\n",
      "...\n",
      "\n",
      "Epoch: 5/5\n",
      "Loss:  2.2644588947296143\n",
      "war|forces,allied,army,troops,soviet\n",
      "their|were,many,the,them,they\n",
      "is|of,and,other,in,are\n",
      "but|only,the,from,either,to\n",
      "time|was,for,at,that,on\n",
      "had|was,when,after,his,been\n",
      "on|the,with,a,of,march\n",
      "who|him,he,them,had,father\n",
      "bill|party,adams,senator,clinton,steve\n",
      "mainly|from,influx,other,are,to\n",
      "recorded|recording,rock,song,songs,album\n",
      "frac|cos,cdot,sqrt,mathrm,equation\n",
      "nobel|prize,laureate,physicist,recipient,chemist\n",
      "freedom|rights,nations,disobedience,economic,liberation\n",
      "bible|biblical,testament,hebrew,tanakh,scriptures\n",
      "heavy|low,tank,propelled,during,weapons\n",
      "...\n",
      "\n",
      "Epoch: 5/5\n",
      "Loss:  2.164349317550659\n",
      "d|b,one,eight,six,de\n",
      "are|or,is,more,a,be\n",
      "also|in,is,the,see,are\n",
      "known|as,is,the,in,such\n",
      "three|four,five,six,seven,one\n",
      "a|is,with,the,to,an\n",
      "will|so,to,no,be,then\n",
      "this|the,it,is,that,be\n",
      "active|mount,passive,committee,reserve,started\n",
      "hit|hits,game,hitting,inning,season\n",
      "bbc|radio,broadcasting,tv,television,broadcast\n",
      "http|www,com,htm,html,org\n",
      "file|files,unix,formats,software,user\n",
      "troops|army,armies,forces,fighting,casualties\n",
      "engine|engines,exhaust,turbine,rocket,automotive\n",
      "know|you,how,something,why,tell\n",
      "...\n",
      "\n",
      "Epoch: 5/5\n",
      "Loss:  2.22012996673584\n",
      "war|allied,was,after,world,armies\n",
      "use|used,for,using,an,uses\n",
      "has|its,with,is,the,as\n",
      "states|united,americans,state,member,democratic\n",
      "may|or,be,is,are,not\n",
      "such|or,can,used,be,are\n",
      "the|and,of,to,in,a\n",
      "more|much,to,very,it,tend\n",
      "orthodox|church,orthodoxy,churches,communion,liturgy\n",
      "centre|located,city,headquarters,railway,site\n",
      "except|are,practice,is,their,were\n",
      "question|how,cannot,questions,that,say\n",
      "articles|com,links,external,dictionary,official\n",
      "gold|silver,copper,ore,bronze,tin\n",
      "pressure|temperature,heat,combustion,pressures,diffusion\n",
      "writers|novelists,fiction,births,essayists,poets\n",
      "...\n",
      "\n",
      "Epoch: 5/5\n",
      "Loss:  2.1919116973876953\n",
      "of|the,and,in,a,by\n",
      "war|allied,ii,armies,army,against\n",
      "so|to,they,that,what,not\n",
      "however|as,some,the,of,when\n",
      "after|was,s,had,eight,died\n",
      "there|for,is,are,have,but\n",
      "often|some,even,are,sometimes,especially\n",
      "seven|six,eight,one,five,two\n",
      "articles|dictionary,links,magazine,com,topics\n",
      "shown|above,has,is,called,are\n",
      "rise|the,century,fell,caused,its\n",
      "creation|genesis,as,human,principles,nature\n",
      "ocean|pacific,atlantic,islands,island,northeast\n",
      "assembly|unicameral,elected,elections,legislative,deputies\n",
      "numerous|various,from,controversial,become,involved\n",
      "animals|animal,mammals,species,insects,humans\n",
      "...\n",
      "\n"
     ]
    },
    {
     "name": "stdout",
     "output_type": "stream",
     "text": [
      "Epoch: 5/5\n",
      "Loss:  2.246790885925293\n",
      "but|that,to,would,it,the\n",
      "who|had,was,he,him,that\n",
      "history|historical,association,external,references,university\n",
      "by|the,s,of,in,and\n",
      "also|and,with,a,an,as\n",
      "six|one,four,eight,five,seven\n",
      "use|used,uses,common,such,similar\n",
      "his|he,him,was,career,in\n",
      "marriage|marry,daughter,married,husband,marriages\n",
      "numerous|including,also,collection,among,many\n",
      "pope|papal,pius,archbishop,church,bishops\n",
      "heavy|metal,heavily,armoured,artillery,armored\n",
      "placed|used,the,hand,with,usually\n",
      "mathematics|mathematical,mathematicians,algebra,theorems,study\n",
      "something|know,you,find,too,really\n",
      "behind|world,dome,to,leaving,end\n",
      "...\n",
      "\n",
      "Epoch: 5/5\n",
      "Loss:  2.3552918434143066\n",
      "will|be,we,must,can,if\n",
      "most|have,are,many,the,were\n",
      "use|used,uses,systems,similar,as\n",
      "many|most,some,these,are,including\n",
      "there|are,not,example,is,number\n",
      "united|states,commonwealth,civil,u,international\n",
      "a|an,and,in,the,as\n",
      "known|of,in,the,as,which\n",
      "centre|manchester,london,station,city,cities\n",
      "bible|biblical,testament,hebrew,scripture,christian\n",
      "scale|scales,ratios,accurate,tuning,more\n",
      "san|francisco,california,antonio,juan,los\n",
      "troops|army,forces,militia,fought,battle\n",
      "something|you,true,really,too,would\n",
      "additional|also,various,for,larger,these\n",
      "recorded|song,songs,albums,album,records\n",
      "...\n",
      "\n"
     ]
    }
   ],
   "source": [
    "device = 'cuda' if torch.cuda.is_available() else 'cpu'\n",
    "\n",
    "#get noise distribution using word frequencies calculated earlier\n",
    "word_freqs = np.array(sorted(freqs.values(), reverse=True))\n",
    "unigram_dist = word_freqs/word_freqs.sum()\n",
    "noise_dist = torch.from_numpy(unigram_dist**(0.75)/np.sum(unigram_dist**(0.75))) \n",
    "\n",
    "#instantiating the model\n",
    "embedding_dim = 300\n",
    "model = SkipGramNeg(len(vocab_to_int), embedding_dim, noise_dist=noise_dist).to(device)\n",
    "\n",
    "#using the loss we defined\n",
    "criterion = NegativeSamplingLoss()\n",
    "optimizer = optim.Adam(model.parameters(), lr= 0.003)\n",
    "\n",
    "print_every = 1500\n",
    "steps = 0\n",
    "epochs = 5\n",
    "\n",
    "for e in range(epochs):\n",
    "    #getting (input,target) batches\n",
    "    for input_words, target_words in get_batches(train_words,512):\n",
    "        steps +=1\n",
    "        inputs, targets = torch.LongTensor(input_words), torch.LongTensor(target_words)\n",
    "        inputs, targets = inputs.to(device), targets.to(device)\n",
    "        \n",
    "        #input, output and noise vectors\n",
    "        input_vectors = model.forward_input(inputs)\n",
    "        output_vectors = model.forward_output(targets)\n",
    "        noise_vectors = model.forward_noise(inputs.shape[0], 5)\n",
    "        \n",
    "        #negative sampling loss\n",
    "        loss = criterion(input_vectors, output_vectors, noise_vectors)\n",
    "        \n",
    "        optimizer.zero_grad()\n",
    "        loss.backward()\n",
    "        optimizer.step()\n",
    "        \n",
    "        #loss stats\n",
    "        if steps % print_every == 0:\n",
    "            print('Epoch: {}/{}'.format(e+1, epochs))\n",
    "            print('Loss: ', loss.item())\n",
    "            valid_examples, valid_similarities = cosine_similarity(model.in_embed, device=device)\n",
    "            _ , closest_idxs = valid_similarities.topk(6)\n",
    "            \n",
    "            valid_examples, closest_idxs = valid_examples.to('cpu'), closest_idxs.to('cpu')\n",
    "            \n",
    "            for ii, valid_idx in enumerate(valid_examples):\n",
    "                closest_words = [int_to_vocab[idx.item()] for idx in closest_idxs[ii]][1:]\n",
    "                print(int_to_vocab[valid_idx.item()] + \"|\" + ','.join(closest_words))\n",
    "            \n",
    "            print('...\\n')\n",
    "            "
   ]
  },
  {
   "cell_type": "code",
   "execution_count": 15,
   "id": "405acdb2",
   "metadata": {},
   "outputs": [],
   "source": [
    "torch.save(model, 'SkGv1.zip')"
   ]
  },
  {
   "cell_type": "code",
   "execution_count": 14,
   "id": "63af7c8d",
   "metadata": {},
   "outputs": [
    {
     "data": {
      "text/plain": [
       "SkipGramNeg(\n",
       "  (in_embed): Embedding(63641, 300)\n",
       "  (out_embed): Embedding(63641, 300)\n",
       ")"
      ]
     },
     "execution_count": 14,
     "metadata": {},
     "output_type": "execute_result"
    }
   ],
   "source": [
    "model = SkipGramNeg(len(vocab_to_int), 300)\n",
    "model = torch.load('SkGv1.zip')\n",
    "model.eval()"
   ]
  },
  {
   "cell_type": "markdown",
   "id": "c62dbf26",
   "metadata": {},
   "source": [
    "### Visualization"
   ]
  },
  {
   "cell_type": "markdown",
   "id": "e9aee61c",
   "metadata": {},
   "source": [
    "To give a qualitative feeling of the goodness of the embeddding, the following toy example is presented:"
   ]
  },
  {
   "cell_type": "code",
   "execution_count": 116,
   "id": "243d083b",
   "metadata": {},
   "outputs": [
    {
     "name": "stdout",
     "output_type": "stream",
     "text": [
      "[60251, 20955, 2457]\n"
     ]
    }
   ],
   "source": [
    "my_words = []\n",
    "for word in ['pacman', 'videogame','yellow']:\n",
    "    my_words.append(vocab_to_int[word])\n",
    "print(my_words)"
   ]
  },
  {
   "cell_type": "code",
   "execution_count": 117,
   "id": "54ba718d",
   "metadata": {
    "scrolled": true
   },
   "outputs": [],
   "source": [
    "my_vectors = []\n",
    "for word in torch.LongTensor(my_words):\n",
    "    my_vectors.append(model.in_embed(word))"
   ]
  },
  {
   "cell_type": "code",
   "execution_count": 118,
   "id": "013946e5",
   "metadata": {},
   "outputs": [],
   "source": [
    "def similarity(v,w): #similarity between two words\n",
    "    mod_v = torch.linalg.vector_norm(v)\n",
    "    mod_w = torch.linalg.vector_norm(w)\n",
    "    return torch.matmul(v,w)/(mod_v*mod_w) "
   ]
  },
  {
   "cell_type": "code",
   "execution_count": 119,
   "id": "b7b368ad",
   "metadata": {},
   "outputs": [
    {
     "name": "stdout",
     "output_type": "stream",
     "text": [
      "[[ 0.99999994  0.1637316   0.07532616]\n",
      " [ 0.1637316   1.00000012 -0.01593503]\n",
      " [ 0.07532616 -0.01593503  0.99999988]]\n"
     ]
    }
   ],
   "source": [
    "cross_matrix = []\n",
    "for v in my_vectors:\n",
    "    for w in my_vectors:\n",
    "        cross_matrix.append(float(similarity(v,w)))\n",
    "cross_matrix = np.array(cross_matrix)\n",
    "cross_matrix = cross_matrix.reshape(3,3)\n",
    "print(cross_matrix)"
   ]
  },
  {
   "cell_type": "code",
   "execution_count": 126,
   "id": "4b1645e6",
   "metadata": {},
   "outputs": [
    {
     "data": {
      "image/png": "[encoded data removed]",
      "text/plain": [
       "<Figure size 288x288 with 2 Axes>"
      ]
     },
     "metadata": {
      "needs_background": "light"
     },
     "output_type": "display_data"
    }
   ],
   "source": [
    "import matplotlib.pyplot as plt\n",
    "plt.matshow(cross_matrix)\n",
    "plt.colorbar()\n",
    "plt.show()\n",
    "#0:pacman\n",
    "#1:videogame\n",
    "#2:yellow"
   ]
  },
  {
   "cell_type": "markdown",
   "id": "f65e80b5",
   "metadata": {},
   "source": [
    "Lastly, it is possible to make use of dimensionality reduction algorithm to get a low-dimensional representation of our embedding vector space. In the following we use the TSNE algorithm, which preserves local distance of the points."
   ]
  },
  {
   "cell_type": "code",
   "execution_count": 20,
   "id": "b4ce36ab",
   "metadata": {},
   "outputs": [],
   "source": [
    "%matplotlib inline\n",
    "%config InlineBackend.figure_format = 'retina'\n",
    "\n",
    "import matplotlib.pyplot as plt\n",
    "from sklearn.manifold import TSNE\n",
    "\n",
    "# getting embeddings from the embedding layer of our model, by name\n",
    "embeddings = model.in_embed.weight.to('cpu').data.numpy()\n",
    "viz_words = 50\n",
    "tsne = TSNE()\n",
    "embed_tsne = tsne.fit_transform(embeddings[500:500+viz_words, :])\n"
   ]
  },
  {
   "cell_type": "code",
   "execution_count": 21,
   "id": "8cadb28b",
   "metadata": {},
   "outputs": [
    {
     "data": {
      "image/png": "[encoded data removed]",
      "text/plain": [
       "<Figure size 1152x1152 with 1 Axes>"
      ]
     },
     "metadata": {
      "image/png": {
       "height": 900,
       "width": 941
      },
      "needs_background": "light"
     },
     "output_type": "display_data"
    }
   ],
   "source": [
    "fig, ax = plt.subplots(figsize=(16, 16))\n",
    "for idx in range(viz_words):\n",
    "    plt.scatter(*embed_tsne[idx, :], color='steelblue')\n",
    "    plt.annotate(int_to_vocab[500+idx], (embed_tsne[idx, 0], embed_tsne[idx, 1]), alpha=0.7)"
   ]
  },
  {
   "cell_type": "markdown",
   "id": "0a1e088d",
   "metadata": {},
   "source": [
    "## References"
   ]
  },
  {
   "cell_type": "markdown",
   "id": "cecde249",
   "metadata": {},
   "source": [
    "*  Mikolov T. et al., **Efficient Estimation of Word Representations in Vector Space**, 2013\n",
    "*  Mikolov T. et al., **Distributed Representations of Words**, 2013\n",
    "*  McCormick, C., **Word2Vec Tutorial - The Skip-Gram Model**,  (2016, April 19), retrieved from http://www.mccormickml.com\n",
    "*  Rong X., **Word2Vec Parameter Learning Explained**, 2016"
   ]
  }
 ],
 "metadata": {
  "kernelspec": {
   "display_name": "Python 3 (ipykernel)",
   "language": "python",
   "name": "python3"
  },
  "language_info": {
   "codemirror_mode": {
    "name": "ipython",
    "version": 3
   },
   "file_extension": ".py",
   "mimetype": "text/x-python",
   "name": "python",
   "nbconvert_exporter": "python",
   "pygments_lexer": "ipython3",
   "version": "3.9.7"
  }
 },
 "nbformat": 4,
 "nbformat_minor": 5
}
